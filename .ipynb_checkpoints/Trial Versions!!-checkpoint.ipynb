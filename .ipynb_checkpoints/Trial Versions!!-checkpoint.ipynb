{
 "cells": [
  {
   "cell_type": "code",
   "execution_count": null,
   "metadata": {
    "collapsed": true
   },
   "outputs": [],
   "source": [
    "M_array = state[:,0]\n",
    "FC_array = state[:,1]\n",
    "FN_array - state[;,2]\n"
   ]
  },
  {
   "cell_type": "code",
   "execution_count": null,
   "metadata": {
    "collapsed": true
   },
   "outputs": [],
   "source": [
    "#Task2:1(b) Finding the maximum values\n",
    "Fc_array = state[:,1]\n",
    "M_array = state[:,0]\n",
    "T_eve = []\n",
    "max_Fc = []\n",
    "period = []\n",
    "print (len(Fc_array))\n",
    "\n",
    "for i in range(len(Fc_array)):\n",
    "    if i != 0 and i != (len(Fc_array)-1):\n",
    "        if Fc_array[i]>Fc_array[i-1] and Fc_array[i]>Fc_array[i+1]:\n",
    "            T_eve.append(time[i])\n",
    "            max_Fc.append(Fc_array[i])\n",
    "\n",
    "for j in range(len(T_eve)-1):\n",
    "    p = T_eve[j+1]-T_eve[j]\n",
    "    period.append(p)\n",
    "\n",
    "print(period)\n",
    "mean_period = np.mean(period)\n",
    "print(mean_period)\n",
    "\n",
    "interval = period[0] /4\n",
    "qtime = [round(T_eve[0]-interval,1),round(T_eve[0],1),round(T_eve[0]+interval,1), round(T_eve[0]+2*interval,1)]\n",
    "qM=[]\n",
    "qFc=[]\n",
    "\n",
    "for z in range(len(time)):\n",
    "    if round(time[z],1) in qtime:\n",
    "        qM.append(M_array[z])\n",
    "        qFc.append(Fc_array[z])\n",
    "plt.figure()\n",
    "plt.plot(Fc_array, M_array)\n",
    "plt.show()\n"
   ]
  },
  {
   "cell_type": "markdown",
   "metadata": {
    "collapsed": true
   },
   "source": [
    "# Trials"
   ]
  },
  {
   "cell_type": "markdown",
   "metadata": {},
   "source": [
    "Note: For simplicity N(t) is written as N\n",
    "\n",
    "Analytical Solution of the given equation is given by applying the following steps\n",
    "\n",
    "$\\frac{dN}{dt} = r \\times {N \\times (1-\\frac{N}{K})}$\n",
    "\n",
    "Separate the variables N and t \n",
    "\n",
    "$\\frac{dN}{N(1-\\frac{N}{K})} = r \\times dt$\n",
    "\n",
    "Partial decomposition of terms in LHS gives us \n",
    "\n",
    "$\\frac{1}{N(1-\\frac{N}{K})} = \\frac{K}{N \\times (K-N)} = \\frac{1}{N} + \\frac{1}{K-N}$\n",
    "\n",
    "The new equation is \n",
    "\n",
    "$\\frac{dN}{N} + \\frac{dN}{K-N} = r \\times dt$\n",
    "\n",
    "$\\int \\frac{dN}{N} + \\frac{dN}{K-N} = \\int r \\times dt$\n",
    "\n",
    "$\\ln{|N|} - \\ln{|K-N|} = rt + C$\n",
    "\n",
    "$\\ln{\\frac{|K-N|}{|N|}} = -rt - C$\n",
    "\n",
    "$\\frac{|K-N|}{|N|} = e^{-rt - C}$\n",
    "\n",
    "$\\frac{K-N}{N} = A \\times e^{-rt}$\n",
    "\n",
    "$N = \\frac{K}{1 - A \\times e^{-rt}}$ where $A = \\frac{K - No}{No}$\n",
    "\n"
   ]
  }
 ],
 "metadata": {
  "kernelspec": {
   "display_name": "Python 3",
   "language": "python",
   "name": "python3"
  },
  "language_info": {
   "codemirror_mode": {
    "name": "ipython",
    "version": 3
   },
   "file_extension": ".py",
   "mimetype": "text/x-python",
   "name": "python",
   "nbconvert_exporter": "python",
   "pygments_lexer": "ipython3",
   "version": "3.6.2"
  }
 },
 "nbformat": 4,
 "nbformat_minor": 2
}

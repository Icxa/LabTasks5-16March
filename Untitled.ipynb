{
 "cells": [
  {
   "cell_type": "code",
   "execution_count": 1,
   "metadata": {
    "collapsed": true
   },
   "outputs": [],
   "source": [
    "import numpy as np\n",
    "import matplotlib.pyplot as plt\n",
    "import math\n",
    "from scipy.integrate import odeint\n",
    "from __future__ import print_function, division\n",
    "from scipy.signal import argrelextrema"
   ]
  },
  {
   "cell_type": "code",
   "execution_count": 2,
   "metadata": {
    "collapsed": true
   },
   "outputs": [],
   "source": [
    "def periodWithVarying_kin(state,t, kin):\n",
    "    \"\"\"Function to calculate period with varying kin\"\"\"\n",
    "    # unpack the initial state vector\n",
    "    M = state[0] #concentration of mRNA\n",
    "    Fc = state[1] #freuqency protein synthesised in cytoplasm\n",
    "    Fn = state[2] #successively built up protein concentration\n",
    "    # these are our constants\n",
    "    #Vs = 2.0\n",
    "    Vs = 1.5\n",
    "    Vm = 1.5\n",
    "    Vd = 1.0\n",
    "    ks = 0.5\n",
    "    K = 0.2\n",
    "    Km = 0.15\n",
    "    Kd = 0.15\n",
    "    kin = kin\n",
    "    kout = 0.1\n",
    "    n = 4 #Hill number\n",
    "    # compute state derivatives w.r.t time\n",
    "    dM = (Vs*(K**n))/(K**n+Fn**n)-(Vm*M/(Km+M))\n",
    "    dFc = ks*M - (Vd*(Fc/(Kd+Fc))) - (kin*Fc) + (kout*Fn)\n",
    "    dFn = kin*Fc - kout*Fn\n",
    "    # return the state derivatives\n",
    "    return [dM, dFc, dFn]"
   ]
  },
  {
   "cell_type": "code",
   "execution_count": 3,
   "metadata": {
    "collapsed": true
   },
   "outputs": [],
   "source": [
    "def findPeriodBasedOnFc(minkin, maxkin,stepsize,state0, t):\n",
    "    \"\"\"Function to determine period by considering the protein level in cytoplasm F(t)\"\"\"\n",
    "    Ps = []\n",
    "    kinvalues = np.linspace(minkin,maxkin,stepsize)\n",
    "    # Iterate through all the kin values\n",
    "    for x in kinvalues:\n",
    "        result_odeint = odeint(periodWithVarying_kin, state0, t, args=(x,))\n",
    "        # Array containing the values of M\n",
    "        Farray = result_odeint[:,1]\n",
    "        # Get the indices of the maxima\n",
    "        # Index represents the no. of steps from start time\n",
    "        maxindices = argrelextrema(Farray, np.greater)\n",
    "         # List of all timepoints where F(t) is maximum\n",
    "        xlist = []\n",
    "        if len(maxindices[0]) > 1:\n",
    "            for item in maxindices[0]:\n",
    "                xlist.append(t[item])\n",
    "        # Get the differences between values\n",
    "        differences = np.diff(xlist)\n",
    "        #print(differences)\n",
    "        # Get the mean period\n",
    "        meanP = np.average(differences)\n",
    "        #print(meanP)\n",
    "        if 21.48 < meanP < 21.53:\n",
    "            # Append a tuple of (kin, mean period)\n",
    "            Ps.append((x, meanP, result_odeint, t, Farray[maxindices], t[maxindices], maxindices))\n",
    "    return Ps"
   ]
  },
  {
   "cell_type": "code",
   "execution_count": 4,
   "metadata": {
    "collapsed": true
   },
   "outputs": [],
   "source": [
    "def findPeriodBasedOnM(minkin, maxkin,stepsize,state0, t):\n",
    "    \"\"\"Function to determine period by considering the protein level in cytoplasm  M(t)\"\"\"\n",
    "    Ps = []\n",
    "    kinvalues = np.linspace(minkin,maxkin,stepsize)\n",
    "    # Iterate through all the kin values\n",
    "    for x in kinvalues:\n",
    "        result_odeint = odeint(periodWithVarying_kin, state0, t, args=(x,))\n",
    "        # Array containing the values of M\n",
    "        Marray = result_odeint[:,0]\n",
    "        # Get the indices of the maxima\n",
    "        # Index represents the no. of steps from start time\n",
    "        maxindices = argrelextrema(Marray, np.greater)\n",
    "         # List of all timepoints where M(t) is maximum\n",
    "        xlist = []\n",
    "        if len(maxindices[0]) > 1:\n",
    "            for item in maxindices[0]:\n",
    "                xlist.append(t[item])\n",
    "        # Get the differences between values\n",
    "        differences = np.diff(xlist)\n",
    "        #print(differences)\n",
    "        # Get the mean period\n",
    "        meanP = np.average(differences)\n",
    "        #print(meanP)\n",
    "        if 21.48 < meanP < 21.53:\n",
    "            # Append a tuple of (kin, mean period)\n",
    "            Ps.append((x,meanP, result_odeint, t, Marray[maxindices], t[maxindices], maxindices))\n",
    "    return Ps"
   ]
  },
  {
   "cell_type": "code",
   "execution_count": 6,
   "metadata": {},
   "outputs": [
    {
     "name": "stdout",
     "output_type": "stream",
     "text": [
      "(array([ 155,  400,  623,  842, 1059, 1275, 1490, 1705, 1920, 2135, 2349,\n",
      "       2563, 2777, 2991, 3205, 3419, 3633, 3847, 4061, 4275, 4489, 4703,\n",
      "       4917, 5131, 5344, 5558, 5772, 5986, 6200, 6414, 6627, 6841, 7055,\n",
      "       7269, 7483, 7697, 7910, 8124, 8338, 8552, 8766, 8980, 9194, 9407,\n",
      "       9621, 9835], dtype=int64),)\n"
     ]
    },
    {
     "data": {
      "image/png": "[encoded data removed]",
      "text/plain": [
       "<matplotlib.figure.Figure at 0x24bb1d25400>"
      ]
     },
     "metadata": {},
     "output_type": "display_data"
    }
   ],
   "source": [
    "minkin = 0.01\n",
    "maxkin = 0.1\n",
    "stepsize = 1000\n",
    "state0 = [0, 0, 0]\n",
    "starttime = 0\n",
    "endtime = 1000\n",
    "intervals = 10000\n",
    "t = np.linspace(starttime, endtime, intervals)\n",
    "\n",
    "results = findPeriodBasedOnFc(minkin, maxkin,stepsize,state0, t)\n",
    "currentresult = results[0]\n",
    "Fcmaxindices = currentresult[6] #indices\n",
    "print(Fcmaxindices)\n",
    "\n",
    "Mresults = findPeriodBasedOnM(minkin, maxkin,stepsize,state0, t)\n",
    "Mcurrentresult = Mresults[0]\n",
    "Marrayvalues = Mcurrentresult[2][:,0][Fcmaxindices]\n",
    "\n",
    "Farrayvalues = currentresult[4]\n",
    "\n",
    "plt.plot(currentresult[2][:,1],Mcurrentresult[2][:,0])\n",
    "plt.plot(Farrayvalues,Marrayvalues,'.', c = 'black')\n",
    "plt.show()\n",
    "    "
   ]
  },
  {
   "cell_type": "code",
   "execution_count": null,
   "metadata": {
    "collapsed": true
   },
   "outputs": [],
   "source": []
  }
 ],
 "metadata": {
  "kernelspec": {
   "display_name": "Python 3",
   "language": "python",
   "name": "python3"
  },
  "language_info": {
   "codemirror_mode": {
    "name": "ipython",
    "version": 3
   },
   "file_extension": ".py",
   "mimetype": "text/x-python",
   "name": "python",
   "nbconvert_exporter": "python",
   "pygments_lexer": "ipython3",
   "version": "3.6.2"
  }
 },
 "nbformat": 4,
 "nbformat_minor": 2
}

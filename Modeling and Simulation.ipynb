{
 "cells": [
  {
   "cell_type": "markdown",
   "metadata": {},
   "source": [
    "# Exercise1"
   ]
  },
  {
   "cell_type": "markdown",
   "metadata": {},
   "source": [
    "## Task1"
   ]
  },
  {
   "cell_type": "markdown",
   "metadata": {},
   "source": [
    "Exponential model of growth of an organism is dN/dt rN where N(t) is the population at time t and r > 0 is the growth rate.\n",
    "\n",
    "To overcome the ideas of overcrowding and limited resources in the exponential growth model logistic equation is used. \n",
    "\n",
    "One dimensional logistic equation is:\n",
    "\n",
    "dN/dt = r*N*(1-N/K) where N(t) is the population at time t, r > 0 is the growth rate and K is the carrying capacity"
   ]
  },
  {
   "cell_type": "markdown",
   "metadata": {},
   "source": [
    "### Part 1"
   ]
  },
  {
   "cell_type": "markdown",
   "metadata": {},
   "source": [
    "Solve the above equation analytically and plot the result in a time series manner."
   ]
  },
  {
   "cell_type": "markdown",
   "metadata": {},
   "source": [
    "#### Solution"
   ]
  },
  {
   "cell_type": "markdown",
   "metadata": {},
   "source": [
    "Note: For simplicity N(t) is written as N\n",
    "\n",
    "Analytical Solution of the given equation is given by applying the following steps\n",
    "\n",
    "$\\frac{dN}{dt} = r \\times {N \\times (1-\\frac{N}{K})}$\n",
    "\n",
    "Separate the variables N and t \n",
    "\n",
    "$\\frac{dN}{N(1-\\frac{N}{K})} = r \\times dt$\n",
    "\n",
    "Partial decomposition of terms in LHS gives us \n",
    "\n",
    "$\\frac{1}{N(1-\\frac{N}{K})} = \\frac{k}{N \\times (K-N)} = \\frac{1}{N} + \\frac{1}{K-N}$\n",
    "\n",
    "The new equation is \n",
    "\n",
    "$\\frac{dN}{N} + \\frac{dN}{K-N} = r \\times dt$\n",
    "\n",
    "$\\int \\frac{dN}{N} + \\frac{dN}{K-N} = \\int r \\times dt$\n",
    "\n",
    "$\\ln{|N|} - \\ln{|K-N|} = rt + C$\n",
    "\n",
    "$\\ln{\\frac{|K-N|}{|N|}} = -rt - C$\n",
    "\n",
    "$\\frac{|K-N|}{|N|} = e^{-rt - C}$\n",
    "\n",
    "$\\frac{K-N}{N} = A \\times e^{-rt}$\n",
    "\n",
    "$N = \\frac{K}{1 - A \\times e^{-rt}}$ where $A = \\frac{K - No}{No}$\n",
    "\n"
   ]
  },
  {
   "cell_type": "code",
   "execution_count": 10,
   "metadata": {},
   "outputs": [
    {
     "data": {
      "image/png": "[encoded data removed]",
      "text/plain": [
       "<matplotlib.figure.Figure at 0x1d0becde978>"
      ]
     },
     "metadata": {},
     "output_type": "display_data"
    }
   ],
   "source": [
    "#Solve the equation analytically and plot the result in a time series manner\n",
    "import numpy as np\n",
    "import matplotlib.pyplot as plt\n",
    "import math\n",
    "#Time steps: an array of values starting from 0 going up to 10, in step size of 0.01\n",
    "t = np.arange(0, 10, 0.01)\n",
    "# parameters\n",
    "r = 2\n",
    "K = 10\n",
    "# initial condition\n",
    "No = 0.1\n",
    "A = (K-No)/No\n",
    "N = K/(1-(A*np.exp(-1*r*t)))\n",
    "# t is an array, it is the same as doing it for each element\n",
    "plt.plot(t,N)\n",
    "plt.legend(['approximation,analytical solution'], loc='best') # draw legend\n",
    "plt.xlabel('Time=t') # define label of x-axis\n",
    "plt.ylabel('Population=N') # and of y-axis\n",
    "plt.show()\n",
    "\n",
    "\n",
    "\n"
   ]
  },
  {
   "cell_type": "code",
   "execution_count": null,
   "metadata": {
    "collapsed": true
   },
   "outputs": [],
   "source": [
    "# import the numerical integrator we will use, odeint()\n",
    "from scipy.integrate import odeint\n",
    "\n",
    "\n",
    "\n",
    "# let's define the right-hand side of the differential equation\n",
    "# It must be a function of the dependent variable (N) and of the \n",
    "# time (t), even if time does not appear explicitly\n",
    "\n",
    "def f(N, t, r, K):\n",
    "    return r*N*(1-N/K)\n",
    "\n",
    "# call the function that performs the integration\n",
    "# the order of the arguments is as below: the derivative function,\n",
    "# the initial condition, the points where we want the solution, and\n",
    "# a list of parameters\n",
    "N = odeint(f, N0, t, (r, K))\n",
    "\n",
    "# plot the solution\n",
    "plt.plot(t, N)\n",
    "xlabel('Time=t') # define label of x-axis\n",
    "ylabel('Population=N') # and of y-axis\n",
    "plt.show()\n"
   ]
  }
 ],
 "metadata": {
  "kernelspec": {
   "display_name": "Python 3",
   "language": "python",
   "name": "python3"
  },
  "language_info": {
   "codemirror_mode": {
    "name": "ipython",
    "version": 3
   },
   "file_extension": ".py",
   "mimetype": "text/x-python",
   "name": "python",
   "nbconvert_exporter": "python",
   "pygments_lexer": "ipython3",
   "version": "3.6.2"
  }
 },
 "nbformat": 4,
 "nbformat_minor": 2
}

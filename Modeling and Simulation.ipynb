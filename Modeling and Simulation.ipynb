{
 "cells": [
  {
   "cell_type": "markdown",
   "metadata": {},
   "source": [
    "# Exercise1"
   ]
  },
  {
   "cell_type": "markdown",
   "metadata": {},
   "source": [
    "## Task1"
   ]
  },
  {
   "cell_type": "markdown",
   "metadata": {},
   "source": [
    "Exponential model of growth of an organism is dN/dt rN where N(t) is the population at time t and r > 0 is the growth rate.\n",
    "\n",
    "To overcome the ideas of overcrowding and limited resources in the exponential growth model logistic equation is used. \n",
    "\n",
    "One dimensional logistic equation is:\n",
    "\n",
    "dN/dt = r*N*(1-N/K) where N(t) is the population at time t, r > 0 is the growth rate and K is the carrying capacity"
   ]
  },
  {
   "cell_type": "markdown",
   "metadata": {},
   "source": [
    "### Part 1"
   ]
  },
  {
   "cell_type": "markdown",
   "metadata": {},
   "source": [
    "Solve the above equation analytically and plot the result in a time series manner."
   ]
  },
  {
   "cell_type": "markdown",
   "metadata": {},
   "source": [
    "#### Solution"
   ]
  },
  {
   "cell_type": "markdown",
   "metadata": {},
   "source": [
    "Note: For simplicity N(t) is written as N\n",
    "\n",
    "Analytical Solution of the given equation is given by applying the following steps\n",
    "\n",
    "$\\frac{dN}{dt} = r \\times {N \\times (1-\\frac{N}{K})}$\n",
    "\n",
    "Seperate the 2 variables N and t\n",
    "\n",
    "$\\frac{dN}{N(1-\\frac{N}{K})} = r \\times dt$\n",
    "\n",
    "Partial Fraction Decomposition\n",
    "\n",
    "$\\frac{1}{N(1-\\frac{N}{K})} = \\frac{1}{N} + \\frac{\\frac{1}{K}}{1-\\frac{N}{K}}$\n",
    "\n",
    "Substitution and Integration\n",
    "\n",
    "$\\int \\frac{1}{N} + \\frac{\\frac{1}{K}}{1-\\frac{N}{K}} dN = \\int r \\times dt$\n",
    "\n",
    "Separate Integration for each term \n",
    "\n",
    "$\\int r \\times dt = rt + C_1$\n",
    "\n",
    "$\\int \\frac{1}{N} dN = \\ln{N} + C_2$\n",
    "\n",
    "For $\\int \\frac{\\frac{1}{K}}{1 - \\frac{N}{K}} dN$ \n",
    "\n",
    "Assume $u = 1 - \\frac{N}{K}$ => $du = - \\frac{1}{k} dN$\n",
    "\n",
    "$\\int \\frac{-du}{u} = -\\ln u + C_3 = -\\ln{1 - \\frac{N}{K}} + C_3$\n",
    "\n",
    "$\\ln{N} - \\ln{1 - \\frac{N}{K}} = \\ln{\\frac{N}{1-\\frac{N}{K}}} = rt + C$\n",
    "\n",
    "$\\frac{N}{1-\\frac{N}{K}} = e^{rt + C}$\n",
    "\n",
    "$\\frac{N}{1-\\frac{N}{K}}= Ae^{rt}$\n",
    "\n",
    "Obtain the equation in terms of N\n",
    "\n",
    "$N = Ae^{rt} \\times 1 - \\frac{N}{K}$\n",
    "\n",
    "$N = Ae^{rt} - Ae^{rt} \\times \\frac{N}{K}$\n",
    "\n",
    "$N + Ae^{rt} \\times \\frac{N}{K} = Ae^{rt}$\n",
    "\n",
    "$N\\big[1 + \\frac{Ae^{rt}}{K}\\big] = Ae^{rt}$\n",
    "\n",
    "$N = \\frac{Ae^{rt}}{1 + \\frac{Ae^{rt}}{K}}$\n",
    "\n",
    "To obtain a value for A, let us consider an initial condition at time $t=0$\n",
    "\n",
    "$Ae^0 = A$\n",
    "\n",
    "$No = \\frac{A}{1 + \\frac{A}{K}}$\n",
    "\n",
    "$No = \\frac{AK}{K+A}$\n",
    "\n",
    "$No(K+A) = AK$\n",
    "\n",
    "$NoK + NoA = AK$\n",
    "\n",
    "$NoA - AK = -NoK$\n",
    "\n",
    "$AK -NoA = NoK$\n",
    "\n",
    "$A = \\frac{NoK}{K - No}$"
   ]
  },
  {
   "cell_type": "code",
   "execution_count": null,
   "metadata": {},
   "outputs": [],
   "source": [
    "import numpy as np\n",
    "import matplotlib.pyplot as plt\n",
    "import math\n",
    "#Time steps: an array of values starting from 0 going up to 10, in step size of 0.01\n",
    "t = np.arange(0, 10, 0.01)\n",
    "# parameters\n",
    "r = 2\n",
    "K = 10\n",
    "# initial condition\n",
    "No = 0.1\n",
    "A = (No*K)/(K-No)\n",
    "N = (A*np.exp(r*t))/(1 + ((A*np.exp(r*t))/K))\n",
    "# t is an array, it is the same as doing it for each element\n",
    "plt.plot(t, N)\n",
    "plt.legend(['approximate analytical solution'], loc='best') # draw legend\n",
    "plt.xlabel('Time=t') # define label of x-axis\n",
    "plt.ylabel('Population=N') # and of y-axis\n",
    "plt.show()"
   ]
  },
  {
   "cell_type": "markdown",
   "metadata": {},
   "source": [
    "### Part 2"
   ]
  },
  {
   "cell_type": "markdown",
   "metadata": {},
   "source": [
    "Simulate it using numerical tools and compare the plots (try different solvers and step sizes)"
   ]
  },
  {
   "cell_type": "markdown",
   "metadata": {},
   "source": [
    "Using scipy.integrate package function odeint"
   ]
  },
  {
   "cell_type": "code",
   "execution_count": null,
   "metadata": {},
   "outputs": [],
   "source": [
    "import numpy as np\n",
    "import matplotlib.pyplot as plt\n",
    "from scipy.integrate import odeint\n",
    "\n",
    "# time steps: an array of values starting from 0 going up to 10, in steps of 0.01\n",
    "t = np.arange(0, 10, 0.01)\n",
    "# parameters\n",
    "r = 2\n",
    "K = 10\n",
    "# initial condition\n",
    "No = 0.1\n",
    "\n",
    "# let's define the right-hand side of the differential equation\n",
    "# It must be a function of the dependent variable (N) and of the time (t), even if time does not appear explicitly\n",
    "def f(N, t, r, K):\n",
    "    \"\"\"Derivative functiion\"\"\"    \n",
    "    return r*N*(1-N/K)\n",
    "\n",
    "# The order of the arguments for ode function: the derivative function, the initial condition, the points where we want \n",
    "# the solution, and a list of parameters\n",
    "N = odeint(f, No, t, (r, K))\n",
    "\n",
    "# plot the solution\n",
    "plt.plot(t, N)\n",
    "plt.xlabel('Time=t') # define label of x-axis\n",
    "plt.ylabel('Population=N') # and of y-axis\n",
    "plt.legend(['Exact solution using scipy.integrate'], loc='best') # draw legend\n",
    "plt.show()\n"
   ]
  },
  {
   "cell_type": "code",
   "execution_count": null,
   "metadata": {},
   "outputs": [],
   "source": [
    "import numpy as np\n",
    "import matplotlib.pyplot as plt\n",
    "from scipy.integrate import odeint\n",
    "\n",
    "# time steps: an array of values starting from 0 going up to 10, in steps of 0.1\n",
    "t = np.arange(0, 10, 0.1)\n",
    "# parameters\n",
    "r = 2\n",
    "K = 10\n",
    "# initial condition\n",
    "No = 0.1\n",
    "\n",
    "# let's define the right-hand side of the differential equation\n",
    "# It must be a function of the dependent variable (N) and of the time (t), even if time does not appear explicitly\n",
    "def f(N, t, r, K):\n",
    "    \"\"\"Derivative functiion\"\"\"    \n",
    "    return r*N*(1-N/K)\n",
    "\n",
    "# The order of the arguments for ode function: the derivative function, the initial condition, the points where we want \n",
    "# the solution, and a list of parameters\n",
    "N = odeint(f, No, t, (r, K))\n",
    "\n",
    "# plot the solution\n",
    "plt.plot(t, N)\n",
    "plt.xlabel('Time=t') # define label of x-axis\n",
    "plt.ylabel('Population=N') # and of y-axis\n",
    "plt.legend(['Exact solution using scipy.integrate'], loc='best') # draw legend\n",
    "plt.show()\n"
   ]
  },
  {
   "cell_type": "markdown",
   "metadata": {},
   "source": [
    "Eulers method"
   ]
  },
  {
   "cell_type": "code",
   "execution_count": null,
   "metadata": {},
   "outputs": [],
   "source": [
    "from __future__ import print_function, division\n",
    "import numpy as np\n",
    "import matplotlib.pyplot as plt\n",
    "\n",
    "# limits: 0.0 <= t <= 150\n",
    "a = 0\n",
    "b = 300\n",
    "# Number of steps\n",
    "nsteps = 50\n",
    "# Carrying capacity\n",
    "K = 189.4\n",
    "# Growth rate\n",
    "r = 0.029443\n",
    "# step-size\n",
    "h = (b-a)/nsteps\n",
    "# initial value: \n",
    "initial = (0.0,5.3)\n",
    " \n",
    "# Logistic growth rate differential equation\n",
    "def f(N,K,r):\n",
    "    return r*N*(1-(N/K))\n",
    " \n",
    "# Create arrays to hold values of t and N\n",
    "t = np.arange(a,b+h,h)\n",
    "narray = np.zeros((nsteps+1,))\n",
    " \n",
    "# set the initial values\n",
    "t[0], narray[0] = initial\n",
    " \n",
    "# Apply Euler's method\n",
    "for i in range(1,nsteps+1):\n",
    "    narray[i] = narray[i-1] + h*f(narray[i-1], K, r)\n",
    "    \n",
    "# Analytical solution\n",
    "def y(t):\n",
    "    No = 5.3\n",
    "    r = 0.029443\n",
    "    K = 189.4\n",
    "    A = (No*K)/(K-No) \n",
    "   \n",
    "    N = (A*np.exp(r*t))/(1 + ((A*np.exp(r*t))/K))\n",
    "    #return K / (1 + (((K-5.3)/5.3)*np.exp(-r*t)))\n",
    "    return N\n",
    "\n",
    "# N = 50 steps\n",
    "plt.plot(t, narray, label='Euler')\n",
    "plt.plot(t, y(t), label='Analytical' )\n",
    "plt.title( \"Euler's Method Logistic Growth, steps=\"+str(nsteps))\n",
    "plt.xlabel('t') \n",
    "plt.ylabel('y(t)')\n",
    "plt.legend(loc=4)\n",
    "plt.grid()\n",
    "plt.show()\n",
    "#plt.savefig('euler_example_50steps.png', fmt='PNG', dpi=100)\n"
   ]
  },
  {
   "cell_type": "code",
   "execution_count": null,
   "metadata": {},
   "outputs": [],
   "source": [
    "from __future__ import print_function, division\n",
    "import numpy as np\n",
    "import matplotlib.pyplot as plt\n",
    "\n",
    "# limits: 0.0 <= t <= 150\n",
    "a = 0\n",
    "b = 300\n",
    " \n",
    "# Number of steps\n",
    "nsteps = 100\n",
    "\n",
    "# Carrying capacity\n",
    "K = 189.4\n",
    "\n",
    "# Growth rate\n",
    "r = 0.029443\n",
    " \n",
    "# step-size\n",
    "h = (b-a)/nsteps\n",
    " \n",
    "# initial value: y(0.0) = 0.5\n",
    "initial = (0.0,5.3)\n",
    " \n",
    "# Logistic growth rate differential equation\n",
    "def f(N,K,r):\n",
    "    return r*N*(1-(N/K))\n",
    " \n",
    "# Create arrays to hold values of t and N\n",
    "t = np.arange(a,b+h,h)\n",
    "narray = np.zeros((nsteps+1,))\n",
    " \n",
    "# set the initial values\n",
    "t[0], narray[0] = initial\n",
    " \n",
    "# Apply Euler's method\n",
    "for i in range(1,nsteps+1):\n",
    "    narray[i] = narray[i-1] + h*f(narray[i-1], K, r)\n",
    "    \n",
    "# Exact solution\n",
    "def y(t):\n",
    "    No = 5.3\n",
    "    r = 0.029443\n",
    "    K = 189.4\n",
    "    A = (No*K)/(K-No) \n",
    "    N = (A*np.exp(r*t))/(1 + ((A*np.exp(r*t))/K))\n",
    "    return N\n",
    "    #return K / (1 + (((K-5.3)/5.3)*np.exp(-r*t)))\n",
    "\n",
    "# N = 100 steps\n",
    "plt.plot(t, narray, label='Euler')\n",
    "plt.plot(t, y(t), label='Analytical' )\n",
    "plt.title( \"Euler's Method Logistic Growth, steps=\"+str(nsteps))\n",
    "plt.xlabel('t') \n",
    "plt.ylabel('y(t)')\n",
    "plt.legend(loc=4)\n",
    "plt.grid()\n",
    "plt.show()\n",
    "#plt.savefig('euler_example_100steps.png', fmt='PNG', dpi=100)\n",
    "\n"
   ]
  },
  {
   "cell_type": "markdown",
   "metadata": {},
   "source": [
    "## Task 2"
   ]
  },
  {
   "cell_type": "markdown",
   "metadata": {
    "collapsed": true
   },
   "source": [
    "3-dimensional Goldbeter model for expression and regulation of the Neurospora “frequency protein” (FRQ)\n",
    "\n",
    "For the concentrations of the mRNA (M), the “frequency protein” (FC) synthesized in the cytoplasm and the successively built up protein concentration (FN) in the nucleus, there is a system of three differential equations:"
   ]
  },
  {
   "cell_type": "markdown",
   "metadata": {},
   "source": [
    "$\\frac{dM}{dt} = V_s \\frac{K^n}{K^n + F_N^n} - V_m \\frac{M}{K_M+M}$\n",
    "\n",
    "$\\frac{dF_C}{dt} = k_s M - V_d \\frac{F_C}{K_d + F_C} - k_{in}F_C + k_{out}F_N$\n",
    "\n",
    "$\\frac{dF_N}{dt} = k_{in}F_C - k_{out}F_N$"
   ]
  },
  {
   "cell_type": "code",
   "execution_count": null,
   "metadata": {
    "collapsed": true
   },
   "outputs": [],
   "source": [
    "import numpy as np\n",
    "from scipy.integrate import odeint\n",
    "import matplotlib.pyplot as plt\n",
    "import scipy.optimize as optimize"
   ]
  },
  {
   "cell_type": "code",
   "execution_count": null,
   "metadata": {
    "collapsed": true
   },
   "outputs": [],
   "source": [
    "def Period(state,t):\n",
    "    # unpack the initial state vector\n",
    "    M = state[0] #concentration of mRNA\n",
    "    Fc = state[1] #freuqency protein synthesised in cytoplasm\n",
    "    Fn = state[2] #successively built up protein concentration\n",
    "    # these are our constants\n",
    "    #Vs = 2.0\n",
    "    Vs = 1.5\n",
    "    Vm = 1.5\n",
    "    Vd = 1.0\n",
    "    ks = 0.5\n",
    "    K = 0.2\n",
    "    Km = 0.15\n",
    "    Kd = 0.15\n",
    "    kin = 0.02\n",
    "    kout = 0.1\n",
    "    n = 4 #Hill number\n",
    "    # compute state derivatives w.r.t time\n",
    "    dM = (Vs*(K**n))/(K**n+Fn**n)-(Vm*M/(Km+M))\n",
    "    dFc = ks*M - (Vd*(Fc/(Kd+Fc))) - (kin*Fc) + (kout*Fn)\n",
    "    dFn = kin*Fc - kout*Fn\n",
    "    # return the state derivatives\n",
    "    return [dM, dFc, dFn]"
   ]
  },
  {
   "cell_type": "code",
   "execution_count": null,
   "metadata": {
    "collapsed": true
   },
   "outputs": [],
   "source": [
    "def viewCircadianClock(result_odeint):\n",
    "    fig, axes = plt.subplots(1,1, figsize=(10, 10))\n",
    "    plt.plot(result_odeint[:,1], result_odeint[:,0])\n",
    "    plt.xlabel(\"concentration of protein in cytoplasm\")\n",
    "    plt.ylabel(\"concentration of mRNA\")\n",
    "    plt.show()"
   ]
  },
  {
   "cell_type": "code",
   "execution_count": null,
   "metadata": {
    "collapsed": true
   },
   "outputs": [],
   "source": [
    "def viewProductConcentrationEvolution(result_odeint):\n",
    "    fig, axes = plt.subplots(1,1, figsize=(20, 20))\n",
    "    labels = [\"concentration of mRNA\", \"protein level in cytoskeleton\", \"protein level in nucleus\"]\n",
    "    plt.plot (time, state[:,0], 'b', time, state[:,1], 'g', time, state[:,2], 'r')\n",
    "    plt.legend(labels, loc='best') \n",
    "    plt.show()"
   ]
  },
  {
   "cell_type": "markdown",
   "metadata": {},
   "source": [
    "#### Example1"
   ]
  },
  {
   "cell_type": "code",
   "execution_count": null,
   "metadata": {
    "collapsed": true
   },
   "outputs": [],
   "source": [
    "state0 = [0, 0, 0]\n",
    "time = np.arange(0.0, 24*100, 1)\n",
    "result_odeint = odeint(Period, state0, time)"
   ]
  },
  {
   "cell_type": "code",
   "execution_count": null,
   "metadata": {},
   "outputs": [],
   "source": [
    "viewCircadianClock(result_odeint)"
   ]
  },
  {
   "cell_type": "code",
   "execution_count": null,
   "metadata": {},
   "outputs": [],
   "source": [
    "viewProductConcentrationEvolution(result_odeint)"
   ]
  },
  {
   "cell_type": "markdown",
   "metadata": {},
   "source": [
    "#### Example 2"
   ]
  },
  {
   "cell_type": "code",
   "execution_count": null,
   "metadata": {},
   "outputs": [],
   "source": [
    "state0 = [0, 0, 0]\n",
    "time = np.arange(0, 24*10, 1)\n",
    "result_odeint = odeint(Period, state0, time)"
   ]
  },
  {
   "cell_type": "code",
   "execution_count": null,
   "metadata": {
    "collapsed": true
   },
   "outputs": [],
   "source": [
    "viewCircadianClock(result_odeint)"
   ]
  },
  {
   "cell_type": "code",
   "execution_count": null,
   "metadata": {
    "collapsed": true
   },
   "outputs": [],
   "source": [
    "viewProductConcentrationEvolution(result_odeint)"
   ]
  },
  {
   "cell_type": "markdown",
   "metadata": {},
   "source": [
    "#### Example 3"
   ]
  },
  {
   "cell_type": "code",
   "execution_count": null,
   "metadata": {
    "collapsed": true
   },
   "outputs": [],
   "source": [
    "start = 0.0\n",
    "end = 72\n",
    "steps = 100\n",
    "time = np.linspace(start, end, steps)\n",
    "state0 = [0, 0, 0]\n",
    "state = odeint(Period, state0, time)"
   ]
  },
  {
   "cell_type": "code",
   "execution_count": null,
   "metadata": {
    "collapsed": true
   },
   "outputs": [],
   "source": [
    "viewCircadianClock(result_odeint)"
   ]
  },
  {
   "cell_type": "code",
   "execution_count": null,
   "metadata": {
    "collapsed": true
   },
   "outputs": [],
   "source": [
    "viewProductConcentrationEvolution(result_odeint)"
   ]
  },
  {
   "cell_type": "markdown",
   "metadata": {},
   "source": [
    "### Part a"
   ]
  },
  {
   "cell_type": "code",
   "execution_count": null,
   "metadata": {
    "collapsed": true
   },
   "outputs": [],
   "source": [
    "def periodWithVarying_kin(state,t, kin):\n",
    "    # unpack the initial state vector\n",
    "    M = state[0] #concentration of mRNA\n",
    "    Fc = state[1] #freuqency protein synthesised in cytoplasm\n",
    "    Fn = state[2] #successively built up protein concentration\n",
    "    # these are our constants\n",
    "    #Vs = 2.0\n",
    "    Vs = 1.5\n",
    "    Vm = 1.5\n",
    "    Vd = 1.0\n",
    "    ks = 0.5\n",
    "    K = 0.2\n",
    "    Km = 0.15\n",
    "    Kd = 0.15\n",
    "    kin = kin\n",
    "    kout = 0.1\n",
    "    n = 4 #Hill number\n",
    "    # compute state derivatives w.r.t time\n",
    "    dM = (Vs*(K**n))/(K**n+Fn**n)-(Vm*M/(Km+M))\n",
    "    dFc = ks*M - (Vd*(Fc/(Kd+Fc))) - (kin*Fc) + (kout*Fn)\n",
    "    dFn = kin*Fc - kout*Fn\n",
    "    # return the state derivatives\n",
    "    return [dM, dFc, dFn]"
   ]
  },
  {
   "cell_type": "markdown",
   "metadata": {},
   "source": [
    "### Determine period by considering the protein level in cytoplasm F(t)"
   ]
  },
  {
   "cell_type": "code",
   "execution_count": null,
   "metadata": {
    "collapsed": true
   },
   "outputs": [],
   "source": [
    "from scipy.signal import argrelextrema\n",
    "def findPeriod(minkin, maxkin,stepsize,state0, timeGap):\n",
    "    starttime = 0.0\n",
    "    endtime = 1000\n",
    "    t = np.arange(starttime, endtime, timeGap)\n",
    "    Ps = []\n",
    "    kinvalues = np.arange(minkin,maxkin,stepsize)\n",
    "    # Iterate through all the kin values\n",
    "    for x in kinvalues:\n",
    "        state = odeint(periodWithVarying_kin, state0, t, args=(x,))\n",
    "        # Array containing the values of M\n",
    "        Farray = state[:,1]\n",
    "        # Get the indices of the maxima\n",
    "        # Index represents the no. of steps from start time\n",
    "        maxindices = argrelextrema(Farray, np.greater)\n",
    "         # List of all timepoints where M(t) is maximum\n",
    "        xlist = []\n",
    "        if len(maxindices[0]) > 1:\n",
    "            for item in maxindices[0]:\n",
    "                xlist.append(t[item])\n",
    "        # Get the differences between values\n",
    "        differences = np.diff(xlist)\n",
    "        #print(differences)\n",
    "        # Get the mean period\n",
    "        meanP = np.average(differences)\n",
    "        #print(meanP)\n",
    "        if 21.48 < meanP < 21.53:\n",
    "            # Append a tuple of (kin, mean period)\n",
    "            Ps.append((x,meanP))\n",
    "    return Ps\n",
    "        "
   ]
  },
  {
   "cell_type": "markdown",
   "metadata": {},
   "source": [
    "Attempt 1"
   ]
  },
  {
   "cell_type": "code",
   "execution_count": null,
   "metadata": {},
   "outputs": [],
   "source": [
    "minkin = 0.01\n",
    "maxkin = 0.1\n",
    "stepsize = 0.0001\n",
    "state0 = [0, 0, 0]\n",
    "timeGap = 0.001\n",
    "results = findPeriod(minkin, maxkin, stepsize, state0, timeGap)\n",
    "print(results)"
   ]
  },
  {
   "cell_type": "code",
   "execution_count": null,
   "metadata": {},
   "outputs": [],
   "source": [
    "for result in results:\n",
    "    kin = result[0]\n",
    "    period = result[1]\n",
    "    state0 = [0, 0, 0]\n",
    "    h = 0.001\n",
    "    starttime = 0.0\n",
    "    endtime = 100\n",
    "    t = np.arange(starttime, endtime, h)\n",
    "    state = odeint(Period, state0, t, args = (kin,))\n",
    "    labels = [\"concentration of mRNA\", \"protein level in cytoskeleton\", \"protein level in nucleus\"]\n",
    "    plt.plot (t, state[:,0], 'b', t, state[:,1], 'g', t, state[:,2], 'r')\n",
    "    plt.legend(labels, loc='best') \n",
    "    plt.show()\n",
    "    break"
   ]
  },
  {
   "cell_type": "markdown",
   "metadata": {},
   "source": [
    "Attempt 2"
   ]
  },
  {
   "cell_type": "code",
   "execution_count": null,
   "metadata": {},
   "outputs": [],
   "source": [
    "minkin = 0.01\n",
    "maxkin = 0.1\n",
    "stepsize = 0.0001\n",
    "state0 = [0, 0, 0]\n",
    "timeGap = 0.001\n",
    "results = findPeriod(minkin, maxkin, stepsize, state0, timeGap)\n",
    "print(results)"
   ]
  },
  {
   "cell_type": "code",
   "execution_count": null,
   "metadata": {},
   "outputs": [],
   "source": [
    "for result in results:\n",
    "    kin = result[0]\n",
    "    period = result[1]\n",
    "    state0 = [0, 0, 0]\n",
    "    h = 0.1\n",
    "    starttime = 0.0\n",
    "    endtime = 1000\n",
    "    t = np.arange(starttime, endtime, h)\n",
    "    state = odeint(Period, state0, t, args = (kin,))\n",
    "    labels = [\"concentration of mRNA\", \"protein level in cytoskeleton\", \"protein level in nucleus\"]\n",
    "    plt.plot (t, state[:,0], 'b', t, state[:,1], 'g', t, state[:,2], 'r')\n",
    "    plt.legend(labels, loc='best') \n",
    "    plt.show()\n",
    "    break\n",
    " \n",
    "\n",
    "        \n",
    "        "
   ]
  },
  {
   "cell_type": "markdown",
   "metadata": {},
   "source": [
    "### Part a with Vs = 1.5 for M(t)"
   ]
  },
  {
   "cell_type": "code",
   "execution_count": null,
   "metadata": {
    "collapsed": true
   },
   "outputs": [],
   "source": [
    "from scipy.signal import argrelextrema\n",
    "def findPeriod(minkin, maxkin,stepsize,state0):\n",
    "    h = 0.001\n",
    "    starttime = 0.0\n",
    "    endtime = 1000\n",
    "    t = np.arange(starttime, endtime, h)\n",
    "    Ps = []\n",
    "    kinvalues = np.arange(minkin,maxkin,stepsize)\n",
    "    # Iterate through all the kin values\n",
    "    for x in kinvalues:\n",
    "        state = odeint(Period, state0, t, args=(x,))\n",
    "        # Array containing the values of M\n",
    "        Marray = state[:,0]\n",
    "        # Get the indices of the maxima\n",
    "        # Index represents the no. of steps from start time\n",
    "        maxindices = argrelextrema(Marray, np.greater)\n",
    "         # List of all timepoints where M(t) is maximum\n",
    "        xlist = []\n",
    "        if len(maxindices[0]) > 1:\n",
    "            for item in maxindices[0]:\n",
    "                xlist.append(t[item])\n",
    "        # Get the differences between values\n",
    "        differences = np.diff(xlist)\n",
    "        #print(differences)\n",
    "        # Get the mean period\n",
    "        meanP = np.average(differences)\n",
    "        #print(meanP)\n",
    "        if 21.48 < meanP < 21.53:\n",
    "            # Append a tuple of (kin, mean period)\n",
    "            Ps.append((x,meanP))\n",
    "    return Ps\n",
    "        \n",
    "        "
   ]
  },
  {
   "cell_type": "code",
   "execution_count": null,
   "metadata": {},
   "outputs": [],
   "source": [
    "minkin = 0.01\n",
    "maxkin = 0.1\n",
    "stepsize = 0.0001\n",
    "state0 = [0, 0, 0]\n",
    "results = findPeriod(minkin, maxkin, stepsize, state0)\n",
    "print(results)"
   ]
  },
  {
   "cell_type": "code",
   "execution_count": null,
   "metadata": {},
   "outputs": [],
   "source": [
    "for kin, period in results:\n",
    "    state0 = [0, 0, 0]\n",
    "    h = 0.001\n",
    "    starttime = 0.0\n",
    "    endtime = 1000\n",
    "    t = np.arange(starttime, endtime, h)\n",
    "    state = odeint(Period, state0, t, args = (kin,))\n",
    "    labels = [\"concentration of mRNA\", \"protein level in cytoskeleton\", \"protein level in nucleus\"]\n",
    "    plt.plot (t, state[:,0], 'b', t, state[:,1], 'g', t, state[:,2], 'r')\n",
    "    plt.legend(labels, loc='best') \n",
    "    plt.show()"
   ]
  },
  {
   "cell_type": "markdown",
   "metadata": {
    "collapsed": true
   },
   "source": [
    "### Part 2b"
   ]
  },
  {
   "cell_type": "code",
   "execution_count": null,
   "metadata": {
    "collapsed": true
   },
   "outputs": [],
   "source": [
    "from scipy.signal import argrelextrema\n",
    "def findPeriodOfClock(state0):\n",
    "    h = 0.001\n",
    "    starttime = 0.0\n",
    "    endtime = 1000\n",
    "    t = np.arange(starttime, endtime, h)\n",
    "    kin = 0.02\n",
    "    state = odeint(Period, state0, t, args=(kin,))\n",
    "    # Array containing the values of M\n",
    "    Farray = state[:,1]\n",
    "    # Get the indices of the maxima\n",
    "    # Index represents the no. of steps from start time\n",
    "    maxindices = argrelextrema(Farray, np.greater)\n",
    "    # List of all timepoints where M(t) is maximum\n",
    "    xlist = []\n",
    "    if len(maxindices[0]) > 1:\n",
    "        for item in maxindices[0]:\n",
    "            xlist.append(t[item])\n",
    "        # Get the differences between values\n",
    "        differences = np.diff(xlist)\n",
    "        # Get the mean period\n",
    "        meanP = np.average(differences)\n",
    "    return meanP\n",
    "        "
   ]
  },
  {
   "cell_type": "code",
   "execution_count": null,
   "metadata": {},
   "outputs": [],
   "source": [
    "state0 = [0, 0, 0]\n",
    "periodOfClock = findPeriodOfClock(state0)\n",
    "print(periodOfClock)"
   ]
  },
  {
   "cell_type": "markdown",
   "metadata": {},
   "source": [
    "### Part 2c"
   ]
  },
  {
   "cell_type": "code",
   "execution_count": null,
   "metadata": {
    "collapsed": true
   },
   "outputs": [],
   "source": [
    "state0 = [0, 0, 0]\n",
    "h = 0.001\n",
    "starttime = 0.0\n",
    "endtime = 1000\n",
    "t = np.arange(starttime, endtime, h)\n",
    "kin = 0.02\n",
    "state = odeint(Period, state0, t, args=(kin,))"
   ]
  },
  {
   "cell_type": "code",
   "execution_count": null,
   "metadata": {},
   "outputs": [],
   "source": [
    "plt.plot(state[:,1], state[:,0])\n",
    "plt.xlabel(\"concentration of protein in cytoplasm\")\n",
    "plt.ylabel(\"concentration of mRNA\")\n",
    "plt.show()"
   ]
  },
  {
   "cell_type": "code",
   "execution_count": null,
   "metadata": {},
   "outputs": [],
   "source": [
    "labels = [\"concentration of mRNA\", \"protein level in cytoskeleton\", \"protein level in nucleus\"]\n",
    "plt.plot (t, state[:,0], 'b', t, state[:,1], 'g', t, state[:,2], 'r')\n",
    "plt.legend(labels, loc='best') \n",
    "plt.show()"
   ]
  },
  {
   "cell_type": "code",
   "execution_count": null,
   "metadata": {},
   "outputs": [],
   "source": [
    "fig, axes = plt.subplots(1,1, figsize=(20, 20))\n",
    "labels = [\"concentration of mRNA\", \"protein level in cytoskeleton\", \"protein level in nucleus\"]\n",
    "plt.plot (t, state[:,0], 'b', t, state[:,1], 'g', t, state[:,2], 'r')\n",
    "plt.legend(labels, loc='best') \n",
    "plt.show()"
   ]
  },
  {
   "cell_type": "markdown",
   "metadata": {
    "collapsed": true
   },
   "source": [
    "## Task 3"
   ]
  },
  {
   "cell_type": "code",
   "execution_count": null,
   "metadata": {
    "collapsed": true
   },
   "outputs": [],
   "source": [
    "import numpy as np\n",
    "from scipy.integrate import odeint\n",
    "import matplotlib.pyplot as plt\n",
    "from scipy.signal import argrelextrema"
   ]
  },
  {
   "cell_type": "code",
   "execution_count": null,
   "metadata": {
    "collapsed": true
   },
   "outputs": [],
   "source": [
    "def Period12h12h(state,t,Vs):\n",
    "    # unpack the initial state vector\n",
    "    M = state[0]\n",
    "    Fc = state[1]\n",
    "    Fn = state[2]\n",
    "    # Constants/Parameters\n",
    "    Vm = 1.5\n",
    "    Vd = 1.0\n",
    "    ks = 0.5\n",
    "    K = .2\n",
    "    Km = 0.15\n",
    "    Kd = 0.15\n",
    "    kin = 0.02\n",
    "    kout = 0.1\n",
    "    n = 4 #Hill number\n",
    "    # Transcription Rate\n",
    "    Vs = Vs\n",
    "    # Compute the derivatives\n",
    "    dM = (Vs*(K**n))/(K**n + Fn**n) - (Vm*M/(Km+M))\n",
    "    dFc = ks*M - (Vd*(Fc/(Kd+Fc))) - (kin*Fc) + (kout*Fc)\n",
    "    dFn = kin*Fc - kout*Fn\n",
    "    # Return the values\n",
    "    return [dM, dFc, dFn]"
   ]
  },
  {
   "cell_type": "code",
   "execution_count": null,
   "metadata": {
    "collapsed": true
   },
   "outputs": [],
   "source": [
    "# Function for finding the minimum Vs step increase\n",
    "def findVsStep(state0):\n",
    "    \n",
    "    # Time parameters\n",
    "    h = 0.01 # Stepsize for time\n",
    "    starttime = 0.0\n",
    "    endtime = 100\n",
    "    \n",
    "    # Each t point is a step through time in the plot\n",
    "    # the value of t is an index, not an absolute value in hours\n",
    "    # Here, len(t) = (end-start)/stepsize = 100/0.01 = 10,000\n",
    "    \n",
    "    t = np.arange(starttime, endtime, h)\n",
    "    # Split the timepoints into 12-hour arrays\n",
    "    # Each value is a number in hours\n",
    "    wheretosplit = [i for i in range(0,endtime,12)][1:]\n",
    "    # wheretosplit\n",
    "    # Out[429]: [12, 24, 36, 48]\n",
    "    \n",
    "    # Convert to specific indices in the t array\n",
    "    indices = [int(x/h) for x in wheretosplit]\n",
    "    print(\"Indices\",indices)\n",
    "    \n",
    "    # Array of splitted timepoints based on 12 h cycle\n",
    "    timearrays= np.split(t,indices)\n",
    "    \n",
    "    # Vs is the transcription rate\n",
    "    step = 0.5\n",
    "    vs0 = 1.5\n",
    "    vs1 = vs0 + step\n",
    "    Vs = vs0\n",
    "    \n",
    "    # Create the Vs vector (alternating vs values through light/dark)\n",
    "    # For plotting later\n",
    "    # numsteps = (endtime - starttime)/stepsize\n",
    "    vsarray = []\n",
    "    s = starttime\n",
    "    stepsizeh = h\n",
    "    for i in range(len(wheretosplit)):\n",
    "        #Convert to num\n",
    "        print(\"WHERE TO SPLIT\",wheretosplit[i])\n",
    "        numsteps = int((wheretosplit[i]-s)/stepsizeh)\n",
    "        #print(numsteps)\n",
    "        if (i%2) == 0:\n",
    "            curvs = vs0\n",
    "        else:\n",
    "            curvs = vs1\n",
    "        \n",
    "        s = wheretosplit[i]\n",
    "        currentvs = [curvs]*numsteps\n",
    "        #print(\"Currentvsarray\",len(currentvs))\n",
    "        #print(currentvs)\n",
    "        vsarray = vsarray + currentvs\n",
    "        #currentvs = [i for i in range(int(numsteps))]\n",
    "        #print(\"Currentvs\",currentvs)\n",
    "        # Current end time is next start time\n",
    "    lastvalues = endtime - wheretosplit[-1]\n",
    "    print(\"Lastvalues\",lastvalues)\n",
    "    numsteps = int((endtime - wheretosplit[-1])/stepsizeh)\n",
    "    last = len(wheretosplit)+1\n",
    "    if (last%2==0):\n",
    "        lastarray = [vs0]*numsteps\n",
    "    else:\n",
    "        lastarray = [vs1]*numsteps\n",
    "    vsarray = vsarray+lastarray\n",
    "\n",
    "    # Numpy array where all results are appended\n",
    "    # Initialize empty numpy array\n",
    "    allstates = np.empty(shape=(0,3))\n",
    "    #print(len(allstates))\n",
    "    \n",
    "    currstate = state0\n",
    "    \n",
    "    # Calculate stepwise \n",
    "    for x in enumerate(timearrays):\n",
    "  \n",
    "        # 12 h:12 h light:dark conditions\n",
    "        if (x[0] % 2 == 0):\n",
    "            # Even --> dark conditions\n",
    "            Vs = vs0\n",
    "        else:\n",
    "            # Odd --> light conditions\n",
    "            Vs = vs1\n",
    "        \n",
    "        # Solve the equations\n",
    "        # x[1] is the current timearray\n",
    "        state = odeint(Period12h12h, currstate, x[1], args=(Vs,))\n",
    "        #print(state,len(state))\n",
    "        print(allstates.shape)\n",
    "        #print(state.shape)\n",
    "        # Plot the M(t) vs F(t)\n",
    "        plt.figure(1)\n",
    "        plt.plot(state[:,0],state[:,1])\n",
    "        #plt.plot(t, y(t), label='exact' )\n",
    "        plt.title(\"Goldbeter Model\")\n",
    "        plt.xlabel('F(t)') \n",
    "        plt.ylabel('M(t)')\n",
    "        #plt.legend(loc=4)\n",
    "        plt.grid()\n",
    "        plt.show()\n",
    "        #plt.savefig('Mt_vs_Ft.png', fmt='PNG', dpi=100)\n",
    "        \n",
    "        # Update the current state\n",
    "        currstate = state[-1]\n",
    "        \n",
    "        allstates = np.concatenate((allstates,state))\n",
    "        \n",
    "       \n",
    "    # Final added data\n",
    "    print(allstates.shape)\n",
    "    plt.figure(2)\n",
    "    plt.plot(allstates[:,0],allstates[:,1])\n",
    "    plt.figure(3)\n",
    "    plt.plot(t,allstates[:,0])\n",
    "    plt.plot(t,allstates[:,1])\n",
    "    plt.plot(t,allstates[:,2])\n",
    "    plt.plot(t,vsarray)\n",
    "    #plt.plot(allstates[:,0],allstates[:,1])\n",
    "\n",
    "    print(vsarray)           \n",
    "     \n"
   ]
  },
  {
   "cell_type": "code",
   "execution_count": null,
   "metadata": {},
   "outputs": [],
   "source": [
    "findVsStep([0,0,0])"
   ]
  },
  {
   "cell_type": "code",
   "execution_count": null,
   "metadata": {},
   "outputs": [],
   "source": [
    "# VERSION 2\n",
    "# Function for finding the minimum Vs step increase\n",
    "def findVsStep2(state0, step):\n",
    "    \n",
    "    # Time parameters\n",
    "    h = 0.01 # Stepsize for time\n",
    "    starttime = 0.0\n",
    "    endtime = 100\n",
    "    # Each t point is a step through time in the plot\n",
    "    # the value of t is an index, not an absolute value in hours\n",
    "    # Here, len(t) = (end-start)/stepsize = 100/0.01 = 10,000\n",
    "    t = np.arange(starttime, endtime, h)\n",
    "    \n",
    "    # Split the timepoints into 12-hour arrays\n",
    "    # Each value is a number in hours\n",
    "    wheretosplit = [i for i in range(0,endtime,12)][1:]\n",
    "\n",
    "    # wheretosplit\n",
    "    # Out[429]: [12, 24, 36, 48]\n",
    "    \n",
    "    # Convert to specific indices in the t array\n",
    "    indices = [int(x/h) for x in wheretosplit]\n",
    "    print(\"Indices\",indices)\n",
    "    # Array of splitted timepoints based on 12 h cycle\n",
    "    timearrays= np.split(t,indices)\n",
    "    \n",
    "    # Vs is the transcription rate\n",
    "    step = step\n",
    "    vs0 = 1.5\n",
    "    vs1 = vs0 + step\n",
    "    Vs = vs0\n",
    "    \n",
    "    # Create the Vs vector (alternating vs values through light/dark)\n",
    "    # For plotting later\n",
    "    # numsteps = (endtime - starttime)/stepsize\n",
    "    vsarray = []\n",
    "    s = starttime\n",
    "    stepsizeh = h\n",
    "    for i in range(len(wheretosplit)):\n",
    "        #Convert to num\n",
    "        print(\"WHERE TO SPLIT\",wheretosplit[i])\n",
    "        numsteps = int((wheretosplit[i]-s)/stepsizeh)\n",
    "        #print(numsteps)\n",
    "        if (i%2) == 0:\n",
    "            curvs = vs0\n",
    "        else:\n",
    "            curvs = vs1\n",
    "        \n",
    "        s = wheretosplit[i]\n",
    "        currentvs = [curvs]*numsteps\n",
    "        #print(\"Currentvsarray\",len(currentvs))\n",
    "        #print(currentvs)\n",
    "        vsarray = vsarray + currentvs\n",
    "        #currentvs = [i for i in range(int(numsteps))]\n",
    "        #print(\"Currentvs\",currentvs)\n",
    "        # Current end time is next start time\n",
    "    lastvalues = endtime - wheretosplit[-1]\n",
    "    print(\"Lastvalues\",lastvalues)\n",
    "    numsteps = int((endtime - wheretosplit[-1])/stepsizeh)\n",
    "    last = len(wheretosplit)+1\n",
    "    if (last%2==0):\n",
    "        lastarray = [vs0]*numsteps\n",
    "    else:\n",
    "        lastarray = [vs1]*numsteps\n",
    "    vsarray = vsarray+lastarray\n",
    "\n",
    "    # Numpy array where all results are appended\n",
    "    # Initialize empty numpy array\n",
    "    allstates = np.empty(shape=(0,3))\n",
    "    #print(len(allstates))\n",
    "    \n",
    "    currstate = state0\n",
    "    \n",
    "    # Calculate stepwise \n",
    "    for x in enumerate(timearrays):\n",
    "  \n",
    "        # 12 h:12 h light:dark conditions\n",
    "        if (x[0] % 2 == 0):\n",
    "            # Even --> dark conditions\n",
    "            Vs = vs0\n",
    "        else:\n",
    "            # Odd --> light conditions\n",
    "            Vs = vs1\n",
    "        \n",
    "        # Solve the equations\n",
    "        # x[1] is the current timearray\n",
    "        state = odeint(Period12h12h, currstate, x[1], args=(Vs,))\n",
    "        #print(state,len(state))\n",
    "        print(allstates.shape)\n",
    "        #print(state.shape)\n",
    "        # Plot the M(t) vs F(t)\n",
    "        plt.figure(1)\n",
    "        plt.plot(state[:,0],state[:,1])\n",
    "        #plt.plot(t, y(t), label='exact' )\n",
    "        plt.title(\"Goldbeter Model\")\n",
    "        plt.xlabel('F(t)') \n",
    "        plt.ylabel('M(t)')\n",
    "        #plt.legend(loc=4)\n",
    "        plt.grid()\n",
    "        #plt.show()\n",
    "        #plt.savefig('Mt_vs_Ft.png', fmt='PNG', dpi=100)\n",
    "        \n",
    "        # Update the current state\n",
    "        currstate = state[-1]\n",
    "        \n",
    "        allstates = np.concatenate((allstates,state))\n",
    "        \n",
    "    # Get the values of M\n",
    "    Marray = allstates[:,1]\n",
    "    \n",
    "    # Get the indices of the maxima#\n",
    "    # Index represents the no. of steps from start time\n",
    "    maxindices = argrelextrema(Marray, np.greater)\n",
    "    \n",
    "    # Convert to hours\n",
    "    xlist = []\n",
    "    for item in maxindices[0]:\n",
    "        xlist.append(item*h + starttime)\n",
    "        \n",
    "    # Get the differences between values\n",
    "    differences = np.diff(xlist)\n",
    "    \n",
    "    # Get the mean period\n",
    "    meanP = np.average(differences)\n",
    "    print(\"MEANP\",meanP)\n",
    "    \n",
    "    # Final added data\n",
    "    print(allstates.shape)\n",
    "    plt.figure(2)\n",
    "    plt.plot(allstates[:,0],allstates[:,1])\n",
    "    plt.figure(3)\n",
    "    plt.plot(t,allstates[:,0])\n",
    "    plt.plot(t,allstates[:,1])\n",
    "    plt.plot(t,allstates[:,2])\n",
    "    plt.plot(t,vsarray)\n",
    "    #plt.plot(allstates[:,0],allstates[:,1])\n",
    "\n",
    "    #print(vsarray)       \n",
    "\n",
    "step = 0.04\n",
    "state0 = [0.1, 0.1, 0.1]\n",
    "results = findVsStep2(state0,step)\n",
    "print(results)"
   ]
  },
  {
   "cell_type": "code",
   "execution_count": null,
   "metadata": {
    "collapsed": true
   },
   "outputs": [],
   "source": []
  }
 ],
 "metadata": {
  "kernelspec": {
   "display_name": "Python 3",
   "language": "python",
   "name": "python3"
  },
  "language_info": {
   "codemirror_mode": {
    "name": "ipython",
    "version": 3
   },
   "file_extension": ".py",
   "mimetype": "text/x-python",
   "name": "python",
   "nbconvert_exporter": "python",
   "pygments_lexer": "ipython3",
   "version": "3.6.2"
  }
 },
 "nbformat": 4,
 "nbformat_minor": 2
}

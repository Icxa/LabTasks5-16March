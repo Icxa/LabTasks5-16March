{
 "cells": [
  {
   "cell_type": "markdown",
   "metadata": {},
   "source": [
    "# Exercise1"
   ]
  },
  {
   "cell_type": "markdown",
   "metadata": {},
   "source": [
    "## Task1"
   ]
  },
  {
   "cell_type": "markdown",
   "metadata": {},
   "source": [
    "Exponential model of growth of an organism is dN/dt rN where N(t) is the population at time t and r > 0 is the growth rate.\n",
    "\n",
    "To overcome the ideas of overcrowding and limited resources in the exponential growth model logistic equation is used. \n",
    "\n",
    "One dimensional logistic equation is:\n",
    "\n",
    "dN/dt = r*N*(1-N/K) where N(t) is the population at time t, r > 0 is the growth rate and K is the carrying capacity"
   ]
  },
  {
   "cell_type": "markdown",
   "metadata": {},
   "source": [
    "### Part 1"
   ]
  },
  {
   "cell_type": "markdown",
   "metadata": {},
   "source": [
    "Solve the above equation analytically and plot the result in a time series manner."
   ]
  },
  {
   "cell_type": "markdown",
   "metadata": {},
   "source": [
    "#### Solution"
   ]
  },
  {
   "cell_type": "markdown",
   "metadata": {},
   "source": [
    "Note: For simplicity N(t) is written as N\n",
    "\n",
    "Analytical Solution of the given equation is given by applying the following steps\n",
    "\n",
    "$\\frac{dN}{dt} = r \\times {N \\times (1-\\frac{N}{K})}$\n",
    "\n",
    "Separate the variables N and t \n",
    "\n",
    "$\\frac{dN}{N(1-\\frac{N}{K})} = r \\times dt$\n",
    "\n",
    "Partial decomposition of terms in LHS gives us \n",
    "\n",
    "$\\frac{1}{N(1-\\frac{N}{K})} = \\frac{k}{N \\times (K-N)} = \\frac{1}{N} + \\frac{1}{K-N}$\n",
    "\n",
    "The new equation is \n",
    "\n",
    "$\\frac{dN}{N} + \\frac{dN}{K-N} = r \\times dt$\n",
    "\n",
    "$\\int \\frac{dN}{N} + \\frac{dN}{K-N} = \\int r \\times dt$\n",
    "\n",
    "$\\ln{|N|} - \\ln{|K-N|} = rt + C$\n",
    "\n",
    "$\\ln{\\frac{|K-N|}{|N|}} = -rt - C$\n",
    "\n",
    "$\\frac{|K-N|}{|N|} = e^{-rt - C}$\n",
    "\n",
    "$\\frac{K-N}{N} = A \\times e^{-rt}$\n",
    "\n",
    "$N = \\frac{K}{1 - A \\times e^{-rt}}$ where $A = \\frac{K - No}{No}$\n",
    "\n"
   ]
  },
  {
   "cell_type": "code",
   "execution_count": 10,
   "metadata": {},
   "outputs": [
    {
     "data": {
      "image/png": "[encoded data removed]",
      "text/plain": [
       "<matplotlib.figure.Figure at 0x1d0becde978>"
      ]
     },
     "metadata": {},
     "output_type": "display_data"
    }
   ],
   "source": [
    "import numpy as np\n",
    "import matplotlib.pyplot as plt\n",
    "import math\n",
    "#Time steps: an array of values starting from 0 going up to 10, in step size of 0.01\n",
    "t = np.arange(0, 10, 0.01)\n",
    "# parameters\n",
    "r = 2\n",
    "K = 10\n",
    "# initial condition\n",
    "No = 0.1\n",
    "A = (K-No)/No\n",
    "N = K/(1-(A*np.exp(-1*r*t)))\n",
    "# t is an array, it is the same as doing it for each element\n",
    "plt.plot(t, N)\n",
    "plt.legend(['approximation,analytical solution'], loc='best') # draw legend\n",
    "plt.xlabel('Time=t') # define label of x-axis\n",
    "plt.ylabel('Population=N') # and of y-axis\n",
    "plt.show()"
   ]
  },
  {
   "cell_type": "markdown",
   "metadata": {},
   "source": [
    "### Part 2"
   ]
  },
  {
   "cell_type": "markdown",
   "metadata": {},
   "source": [
    "Simulate it using numerical tools and compare the plots (try different solvers and step sizes)"
   ]
  },
  {
   "cell_type": "code",
   "execution_count": 17,
   "metadata": {},
   "outputs": [
    {
     "data": {
      "image/png": "[encoded data removed]",
      "text/plain": [
       "<matplotlib.figure.Figure at 0x1d0bc381860>"
      ]
     },
     "metadata": {},
     "output_type": "display_data"
    }
   ],
   "source": [
    "import numpy as np\n",
    "import matplotlib.pyplot as plt\n",
    "from scipy.integrate import odeint\n",
    "\n",
    "# time steps: an array of values starting from 0 going up to 10, in steps of 0.01\n",
    "t = np.arange(0, 10, 0.01)\n",
    "# parameters\n",
    "r = 2\n",
    "K = 10\n",
    "# initial condition\n",
    "No = 0.1\n",
    "\n",
    "# let's define the right-hand side of the differential equation\n",
    "# It must be a function of the dependent variable (N) and of the time (t), even if time does not appear explicitly\n",
    "def f(N, t, r, K):\n",
    "    \"\"\"Derivative functiion\"\"\"    \n",
    "    return r*N*(1-N/K)\n",
    "\n",
    "# The order of the arguments for ode function: the derivative function, the initial condition, the points where we want \n",
    "# the solution, and a list of parameters\n",
    "N = odeint(f, No, t, (r, K))\n",
    "\n",
    "# plot the solution\n",
    "plt.plot(t, N)\n",
    "plt.xlabel('Time=t') # define label of x-axis\n",
    "plt.ylabel('Population=N') # and of y-axis\n",
    "plt.show()\n"
   ]
  },
  {
   "cell_type": "code",
   "execution_count": 20,
   "metadata": {},
   "outputs": [
    {
     "data": {
      "image/png": "[encoded data removed]",
      "text/plain": [
       "<matplotlib.figure.Figure at 0x1d0be9d6128>"
      ]
     },
     "metadata": {},
     "output_type": "display_data"
    }
   ],
   "source": [
    "import numpy as np\n",
    "import matplotlib.pyplot as plt\n",
    "from scipy.integrate import odeint\n",
    "\n",
    "# time steps: an array of values starting from 0 going up to 10, in steps of 0.01\n",
    "t = np.arange(0, 10, 0.1)\n",
    "# parameters\n",
    "r = 2\n",
    "K = 10\n",
    "# initial condition\n",
    "No = 0.1\n",
    "\n",
    "# let's define the right-hand side of the differential equation\n",
    "# It must be a function of the dependent variable (N) and of the time (t), even if time does not appear explicitly\n",
    "def f(N, t, r, K):\n",
    "    \"\"\"Derivative functiion\"\"\"    \n",
    "    return r*N*(1-N/K)\n",
    "\n",
    "# The order of the arguments for ode function: the derivative function, the initial condition, the points where we want \n",
    "# the solution, and a list of parameters\n",
    "N = odeint(f, No, t, (r, K))\n",
    "\n",
    "# plot the solution\n",
    "plt.plot(t, N)\n",
    "plt.xlabel('Time=t') # define label of x-axis\n",
    "plt.ylabel('Population=N') # and of y-axis\n",
    "plt.show()\n"
   ]
  },
  {
   "cell_type": "code",
   "execution_count": 21,
   "metadata": {},
   "outputs": [
    {
     "data": {
      "image/png": "[encoded data removed]",
      "text/plain": [
       "<matplotlib.figure.Figure at 0x1d0bf53e978>"
      ]
     },
     "metadata": {},
     "output_type": "display_data"
    }
   ],
   "source": [
    "#Eulers method - another way to obtain numerical solution \n",
    "\n",
    "from __future__ import print_function, division\n",
    "import numpy as np\n",
    "import matplotlib.pyplot as plt\n",
    "\n",
    "# limits: 0.0 <= t <= 150\n",
    "a = 0\n",
    "b = 500\n",
    "# Number of steps\n",
    "nsteps = 1000\n",
    "# Carrying capacity\n",
    "K = 189.4\n",
    "# Growth rate\n",
    "r = 0.029443\n",
    "# step-size\n",
    "h = (b-a)/nsteps\n",
    "\n",
    "# initial value: y(0.0) = 0.5\n",
    "initial = (0.0,5.3)\n",
    "\n",
    "# Logistic growth rate differential equation\n",
    "def f(N,K,r):\n",
    "    return r*N*(1-(N/K))\n",
    " \n",
    "# Create arrays to hold values of t and N\n",
    "t = np.arange(a,b+h,h)\n",
    "narray = np.zeros((nsteps+1,))\n",
    " \n",
    "# set the initial values\n",
    "t[0], narray[0] = initial\n",
    " \n",
    "# Apply Euler's method\n",
    "for i in range(1,nsteps+1):\n",
    "    narray[i] = narray[i-1] + h*f(narray[i-1], K, r)\n",
    "    \n",
    "# Exact solution\n",
    "def y(t):\n",
    "    return K / (1 + (((K-5.3)/5.3)*np.exp(-r*t)))\n",
    "\n",
    "plt.plot(t, y(t), label='exact')\n",
    "plt.xlabel('t') \n",
    "plt.ylabel('y(t)')\n",
    "plt.legend(loc=4)\n",
    "plt.show()\n",
    "plt.savefig( 'euler_example.png', fmt='PNG', dpi=100 )"
   ]
  },
  {
   "cell_type": "markdown",
   "metadata": {},
   "source": [
    "## Task 2"
   ]
  },
  {
   "cell_type": "markdown",
   "metadata": {
    "collapsed": true
   },
   "source": [
    "3-dimensional Goldbeter model for expression and regulation of the Neurospora “frequency protein” (FRQ)\n",
    "\n",
    "For the concentrations of the mRNA (M), the “frequency protein” (FC) synthesized in the cytoplasm and the successively built up protein concentration (FN) in the nucleus, there is a system of three differential equations:"
   ]
  },
  {
   "cell_type": "markdown",
   "metadata": {},
   "source": [
    "$\\frac{dM}{dt} = V_s \\frac{K^n}{K^n + F_N^n} - V_m \\frac{M}{K_M+M}$\n",
    "\n",
    "$\\frac{dF_C}{dt} = k_s M - V_d \\frac{F_C}{K_d + F_C} - k_{in}F_C + k_{out}F_N$\n",
    "\n",
    "$\\frac{dF_N}{dt} = k_{in}F_C - k_{out}F_N$"
   ]
  },
  {
   "cell_type": "code",
   "execution_count": null,
   "metadata": {
    "collapsed": true
   },
   "outputs": [],
   "source": []
  }
 ],
 "metadata": {
  "kernelspec": {
   "display_name": "Python 3",
   "language": "python",
   "name": "python3"
  },
  "language_info": {
   "codemirror_mode": {
    "name": "ipython",
    "version": 3
   },
   "file_extension": ".py",
   "mimetype": "text/x-python",
   "name": "python",
   "nbconvert_exporter": "python",
   "pygments_lexer": "ipython3",
   "version": "3.6.2"
  }
 },
 "nbformat": 4,
 "nbformat_minor": 2
}

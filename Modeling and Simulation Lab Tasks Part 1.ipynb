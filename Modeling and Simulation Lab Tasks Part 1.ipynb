{
 "cells": [
  {
   "cell_type": "markdown",
   "metadata": {},
   "source": [
    "# LAB TASKS PART 1"
   ]
  },
  {
   "cell_type": "code",
   "execution_count": 1,
   "metadata": {
    "collapsed": true
   },
   "outputs": [],
   "source": [
    "import numpy as np\n",
    "import matplotlib.pyplot as plt\n",
    "import math\n",
    "from scipy.integrate import odeint\n",
    "from __future__ import print_function, division\n",
    "from scipy.signal import argrelextrema"
   ]
  },
  {
   "cell_type": "markdown",
   "metadata": {},
   "source": [
    "# Exercise1"
   ]
  },
  {
   "cell_type": "markdown",
   "metadata": {},
   "source": [
    "## Task1"
   ]
  },
  {
   "cell_type": "markdown",
   "metadata": {},
   "source": [
    "Exponential model of growth of an organism is dN/dt rN where N(t) is the population at time t and r > 0 is the growth rate.\n",
    "\n",
    "To overcome the ideas of overcrowding and limited resources in the exponential growth model logistic equation is used. \n",
    "\n",
    "One dimensional logistic equation is:\n",
    "\n",
    "dN/dt = r*N*(1-N/K) where N(t) is the population at time t, r > 0 is the growth rate and K is the carrying capacity"
   ]
  },
  {
   "cell_type": "markdown",
   "metadata": {},
   "source": [
    "### Part 1"
   ]
  },
  {
   "cell_type": "markdown",
   "metadata": {},
   "source": [
    "Solve the above equation analytically and plot the result in a time series manner."
   ]
  },
  {
   "cell_type": "markdown",
   "metadata": {},
   "source": [
    "#### Solution"
   ]
  },
  {
   "cell_type": "markdown",
   "metadata": {},
   "source": [
    "Note: For simplicity N(t) is written as N\n",
    "\n",
    "Analytical Solution of the given equation is given by applying the following steps\n",
    "\n",
    "$\\frac{dN}{dt} = r \\times {N \\times (1-\\frac{N}{K})}$\n",
    "\n",
    "Seperate the 2 variables N and t\n",
    "\n",
    "$\\frac{dN}{N(1-\\frac{N}{K})} = r \\times dt$\n",
    "\n",
    "Partial Fraction Decomposition\n",
    "\n",
    "$\\frac{1}{N(1-\\frac{N}{K})} = \\frac{1}{N} + \\frac{\\frac{1}{K}}{1-\\frac{N}{K}}$\n",
    "\n",
    "Substitution and Integration\n",
    "\n",
    "$\\int \\frac{1}{N} + \\frac{\\frac{1}{K}}{1-\\frac{N}{K}} dN = \\int r \\times dt$\n",
    "\n",
    "Separate Integration for each term \n",
    "\n",
    "$\\int r \\times dt = rt + C_1$\n",
    "\n",
    "$\\int \\frac{1}{N} dN = \\ln{N} + C_2$\n",
    "\n",
    "For $\\int \\frac{\\frac{1}{K}}{1 - \\frac{N}{K}} dN$ \n",
    "\n",
    "Assume $u = 1 - \\frac{N}{K}$ => $du = - \\frac{1}{k} dN$\n",
    "\n",
    "$\\int \\frac{-du}{u} = -\\ln u + C_3 = -\\ln{1 - \\frac{N}{K}} + C_3$\n",
    "\n",
    "$\\ln{N} - \\ln{1 - \\frac{N}{K}} = \\ln{\\frac{N}{1-\\frac{N}{K}}} = rt + C$\n",
    "\n",
    "$\\frac{N}{1-\\frac{N}{K}} = e^{rt + C}$\n",
    "\n",
    "$\\frac{N}{1-\\frac{N}{K}}= Ae^{rt}$\n",
    "\n",
    "Obtain the equation in terms of N\n",
    "\n",
    "$N = Ae^{rt} \\times 1 - \\frac{N}{K}$\n",
    "\n",
    "$N = Ae^{rt} - Ae^{rt} \\times \\frac{N}{K}$\n",
    "\n",
    "$N + Ae^{rt} \\times \\frac{N}{K} = Ae^{rt}$\n",
    "\n",
    "$N\\big[1 + \\frac{Ae^{rt}}{K}\\big] = Ae^{rt}$\n",
    "\n",
    "$N = \\frac{Ae^{rt}}{1 + \\frac{Ae^{rt}}{K}}$\n",
    "\n",
    "To obtain a value for A, let us consider an initial condition at time $t=0$\n",
    "\n",
    "$Ae^0 = A$\n",
    "\n",
    "$No = \\frac{A}{1 + \\frac{A}{K}}$\n",
    "\n",
    "$No = \\frac{AK}{K+A}$\n",
    "\n",
    "$No(K+A) = AK$\n",
    "\n",
    "$NoK + NoA = AK$\n",
    "\n",
    "$NoA - AK = -NoK$\n",
    "\n",
    "$AK -NoA = NoK$\n",
    "\n",
    "$A = \\frac{NoK}{K - No}$"
   ]
  },
  {
   "cell_type": "code",
   "execution_count": 2,
   "metadata": {},
   "outputs": [
    {
     "data": {
      "image/png": "[encoded data removed]",
      "text/plain": [
       "<matplotlib.figure.Figure at 0x183debbb630>"
      ]
     },
     "metadata": {},
     "output_type": "display_data"
    }
   ],
   "source": [
    "#Time steps: an array of values starting from 0 going up to 10, in step size of 0.01\n",
    "t = np.arange(0, 10, 0.01)\n",
    "# parameters\n",
    "r = 2\n",
    "K = 10\n",
    "# initial condition\n",
    "No = 0.1\n",
    "A = (No*K)/(K-No)\n",
    "N = (A*np.exp(r*t))/(1 + ((A*np.exp(r*t))/K))\n",
    "# t is an array, it is the same as doing it for each element\n",
    "plt.plot(t, N)\n",
    "plt.legend(['approximate analytical solution'], loc='best') # draw legend\n",
    "plt.xlabel('Time=t') # define label of x-axis\n",
    "plt.ylabel('Population=N') # and of y-axis\n",
    "plt.show()"
   ]
  },
  {
   "cell_type": "markdown",
   "metadata": {},
   "source": [
    "### Part 2"
   ]
  },
  {
   "cell_type": "markdown",
   "metadata": {},
   "source": [
    "Simulate it using numerical tools and compare the plots (try different solvers and step sizes)"
   ]
  },
  {
   "cell_type": "markdown",
   "metadata": {},
   "source": [
    "Using scipy.integrate package function odeint"
   ]
  },
  {
   "cell_type": "code",
   "execution_count": 3,
   "metadata": {
    "collapsed": true
   },
   "outputs": [],
   "source": [
    " def derivativeFunction(N, t, r, K):\n",
    "    \"\"\"Derivative functiion\"\"\"   \n",
    "     # let's define the right-hand side of the differential equation\n",
    "    # It must be a function of the dependent variable (N) and of the time (t), even if time does not appear explicitly\n",
    "    return r*N*(1-N/K)"
   ]
  },
  {
   "cell_type": "code",
   "execution_count": null,
   "metadata": {
    "collapsed": true
   },
   "outputs": [],
   "source": [
    "def demo_odeint(time, No, r, K):\n",
    "    #The order of the arguments for ode function: the derivative function, the initial condition, the points where we want the solution, and a list of parameters\n",
    "    N = odeint(derivativeFunction, No, time, (r, K))\n",
    "    # plot the solution\n",
    "    plt.plot(time, N)\n",
    "    plt.xlabel('Time') # define label of x-axis\n",
    "    plt.ylabel('Population') # and of y-axis\n",
    "    plt.legend(['Exact solution using scipy.integrate'], loc='best') # draw legend\n",
    "    plt.show()\n"
   ]
  },
  {
   "cell_type": "code",
   "execution_count": null,
   "metadata": {},
   "outputs": [],
   "source": [
    "# time steps: an array of values starting from 0 going up to 10, in steps of 0.01\n",
    "t = np.arange(0, 10, 0.01)\n",
    "# parameters\n",
    "r = 2\n",
    "K = 10\n",
    "# initial condition\n",
    "No = 0.1\n",
    "demo_odeint(t, No, r, K)\n"
   ]
  },
  {
   "cell_type": "code",
   "execution_count": null,
   "metadata": {},
   "outputs": [],
   "source": [
    "# time steps: an array of values starting from 0 going up to 10, in steps of 0.1\n",
    "t = np.arange(0, 10, 0.1)\n",
    "# parameters\n",
    "r = 2\n",
    "K = 10\n",
    "# initial condition\n",
    "No = 0.1\n",
    "demo_odeint(t, No, r, K)\n",
    "\n"
   ]
  },
  {
   "cell_type": "markdown",
   "metadata": {},
   "source": [
    "Eulers method"
   ]
  },
  {
   "cell_type": "code",
   "execution_count": null,
   "metadata": {
    "collapsed": true
   },
   "outputs": [],
   "source": [
    "# Logistic growth rate differential equation\n",
    "def logisticGrowth(N,K,r):\n",
    "    return r*N*(1-(N/K))"
   ]
  },
  {
   "cell_type": "code",
   "execution_count": null,
   "metadata": {
    "collapsed": true
   },
   "outputs": [],
   "source": [
    "def demoEulersMethod(start, end, nsteps, carryingCapacity, growthRate, initialValue):\n",
    "    stepSize = (end-start)/nsteps\n",
    "    # Create arrays to hold values of t and N\n",
    "    time = np.arange(start,end+stepSize,stepSize)\n",
    "    narray = np.zeros((nsteps+1,))\n",
    "    # set the initial values\n",
    "    time[0], narray[0] = initialValue\n",
    "    # Apply Euler's method\n",
    "    for i in range(1,nsteps+1):\n",
    "        narray[i] = narray[i-1] + stepSize*logisticGrowth(narray[i-1], carryingCapacity, growthRate)\n",
    "    return time, narray"
   ]
  },
  {
   "cell_type": "code",
   "execution_count": null,
   "metadata": {
    "collapsed": true
   },
   "outputs": [],
   "source": [
    "# Analytical solution\n",
    "def analyticalSolution(t, No, r, K):\n",
    "    No = 5.3\n",
    "    r = 0.029443\n",
    "    K = 189.4\n",
    "    A = (No*K)/(K-No) \n",
    "    N = (A*np.exp(r*t))/(1 + ((A*np.exp(r*t))/K))\n",
    "    return N\n"
   ]
  },
  {
   "cell_type": "code",
   "execution_count": null,
   "metadata": {
    "collapsed": true
   },
   "outputs": [],
   "source": [
    "def plotComparisonEulersAnalytical(time, narray, N):\n",
    "    plt.plot(time, narray, label='Euler')\n",
    "    plt.plot(time, N, label='Analytical' )\n",
    "    plt.title( \"Euler's Method Logistic Growth, steps=\"+str(nsteps))\n",
    "    plt.xlabel('time') \n",
    "    plt.ylabel('solution')\n",
    "    plt.legend(loc=4)\n",
    "    plt.grid()\n",
    "    plt.show()\n"
   ]
  },
  {
   "cell_type": "code",
   "execution_count": null,
   "metadata": {},
   "outputs": [],
   "source": [
    "start = 0\n",
    "end = 300\n",
    "nsteps = 50\n",
    "carryingCapacity = 189.4\n",
    "growthRate = 0.029443\n",
    "initialValue = (0.0,5.3)\n",
    "No = 5.3\n",
    "time, narray = demoEulersMethod(start, end, nsteps, carryingCapacity, growthRate, initialValue)\n",
    "N = analyticalSolution(time, No, growthRate, carryingCapacity)\n",
    "plotComparisonEulersAnalytical(time, narray, N)"
   ]
  },
  {
   "cell_type": "code",
   "execution_count": null,
   "metadata": {},
   "outputs": [],
   "source": [
    "start = 0\n",
    "end = 300\n",
    "nsteps = 50\n",
    "carryingCapacity = 189.4\n",
    "growthRate = 0.029443\n",
    "initialValue = (0.0,5.3)\n",
    "No = 5.3\n",
    "time, narray = demoEulersMethod(start, end, nsteps, carryingCapacity, growthRate, initialValue)\n",
    "N = analyticalSolution(time, No, growthRate, carryingCapacity)\n",
    "plotComparisonEulersAnalytical(time, narray, N)"
   ]
  },
  {
   "cell_type": "markdown",
   "metadata": {},
   "source": [
    "## Task 2"
   ]
  },
  {
   "cell_type": "markdown",
   "metadata": {
    "collapsed": true
   },
   "source": [
    "3-dimensional Goldbeter model for expression and regulation of the Neurospora “frequency protein” (FRQ)\n",
    "\n",
    "For the concentrations of the mRNA (M), the “frequency protein” (FC) synthesized in the cytoplasm and the successively built up protein concentration (FN) in the nucleus, there is a system of three differential equations:"
   ]
  },
  {
   "cell_type": "markdown",
   "metadata": {},
   "source": [
    "$\\frac{dM}{dt} = V_s \\frac{K^n}{K^n + F_N^n} - V_m \\frac{M}{K_M+M}$\n",
    "\n",
    "$\\frac{dF_C}{dt} = k_s M - V_d \\frac{F_C}{K_d + F_C} - k_{in}F_C + k_{out}F_N$\n",
    "\n",
    "$\\frac{dF_N}{dt} = k_{in}F_C - k_{out}F_N$"
   ]
  },
  {
   "cell_type": "code",
   "execution_count": null,
   "metadata": {
    "collapsed": true
   },
   "outputs": [],
   "source": [
    "def Period(state,t):\n",
    "    \"\"\"Function to calculate period with the default parameters given the initial state and time series in constant darkness\"\"\"\n",
    "    # unpack the initial state vector\n",
    "    M = state[0] #concentration of mRNA\n",
    "    Fc = state[1] #freuqency protein synthesised in cytoplasm\n",
    "    Fn = state[2] #successively built up protein concentration\n",
    "    # these are our constants\n",
    "    #Vs = 2.0\n",
    "    Vs = 1.5\n",
    "    Vm = 1.5\n",
    "    Vd = 1.0\n",
    "    ks = 0.5\n",
    "    K = 0.2\n",
    "    Km = 0.15\n",
    "    Kd = 0.15\n",
    "    kin = 0.02\n",
    "    kout = 0.1\n",
    "    n = 4 #Hill number\n",
    "    # compute state derivatives w.r.t time\n",
    "    dM = (Vs*(K**n))/(K**n+Fn**n)-(Vm*M/(Km+M))\n",
    "    dFc = ks*M - (Vd*(Fc/(Kd+Fc))) - (kin*Fc) + (kout*Fn)\n",
    "    dFn = kin*Fc - kout*Fn\n",
    "    # return the state derivatives\n",
    "    return [dM, dFc, dFn]"
   ]
  },
  {
   "cell_type": "code",
   "execution_count": null,
   "metadata": {
    "collapsed": true
   },
   "outputs": [],
   "source": [
    "def viewCircadianClock(result_odeint):\n",
    "    \"\"\"Function to view the circadian clock\"\"\"\n",
    "    fig, axes = plt.subplots(1,1, figsize=(5, 5))\n",
    "    plt.plot(result_odeint[:,1], result_odeint[:,0])\n",
    "    plt.xlabel(\"concentration of protein in cytoplasm\")\n",
    "    plt.ylabel(\"concentration of mRNA\")\n",
    "    plt.show()"
   ]
  },
  {
   "cell_type": "code",
   "execution_count": null,
   "metadata": {
    "collapsed": true
   },
   "outputs": [],
   "source": [
    "def viewProductConcentrationEvolution(result_odeint, time):\n",
    "    \"\"\"Function to view the product concentration evolution over time given the result from odeint function and time series\"\"\"\n",
    "    fig, axes = plt.subplots(1,1, figsize=(10, 10))\n",
    "    legends = [\"concentration of mRNA\", \"protein level in cytoskeleton\", \"protein level in nucleus\"]\n",
    "    plt.plot (time, result_odeint[:,0], 'b', time, result_odeint[:,1], 'g', time, result_odeint[:,2], 'r')\n",
    "    plt.xlabel(\"time\")\n",
    "    plt.ylabel(\"product concentration\")\n",
    "    plt.legend(legends, loc='best') \n",
    "    plt.show()"
   ]
  },
  {
   "cell_type": "code",
   "execution_count": null,
   "metadata": {
    "collapsed": true
   },
   "outputs": [],
   "source": [
    "def findPeriodOfClock(state0):\n",
    "    \"\"\"Function to calculate the period of the clock with original parameters and initial state\"\"\"\n",
    "    starttime = 0\n",
    "    endtime = 1000\n",
    "    intervals = 10000\n",
    "    t = np.linspace(starttime, endtime, intervals)\n",
    "    result_odeint = odeint(Period, state0, t)\n",
    "    # Array containing the values of M\n",
    "    Farray = result_odeint[:,1]\n",
    "    # Get the indices of the maxima\n",
    "    # Index represents the no. of steps from start time\n",
    "    maxindices = argrelextrema(Farray, np.greater)\n",
    "    # List of all timepoints where M(t) is maximum\n",
    "    xlist = []\n",
    "    if len(maxindices[0]) > 1:\n",
    "        for item in maxindices[0]:\n",
    "            xlist.append(t[item])\n",
    "        # Get the differences between values\n",
    "        differences = np.diff(xlist)\n",
    "        # Get the mean period\n",
    "        meanP = np.average(differences)\n",
    "    return meanP"
   ]
  },
  {
   "cell_type": "code",
   "execution_count": null,
   "metadata": {},
   "outputs": [],
   "source": [
    "state0 = [0, 0, 0]\n",
    "periodOfClock = findPeriodOfClock(state0)\n",
    "print(\"Period of the clock with original parameters is\",\"%.2f\" % periodOfClock)"
   ]
  },
  {
   "cell_type": "code",
   "execution_count": null,
   "metadata": {
    "collapsed": true
   },
   "outputs": [],
   "source": [
    "state0 = [0, 0, 0]\n",
    "starttime = 0\n",
    "endtime = 1000\n",
    "intervals = 10000\n",
    "t = np.linspace(starttime, endtime, intervals)\n",
    "result_odeint = odeint(Period, state0, t)"
   ]
  },
  {
   "cell_type": "markdown",
   "metadata": {},
   "source": [
    "Below are the plots for circadian clock and product concentration evolution with original parameters in constant darkness"
   ]
  },
  {
   "cell_type": "code",
   "execution_count": null,
   "metadata": {},
   "outputs": [],
   "source": [
    "viewCircadianClock(result_odeint)"
   ]
  },
  {
   "cell_type": "code",
   "execution_count": null,
   "metadata": {},
   "outputs": [],
   "source": [
    "viewProductConcentrationEvolution(result_odeint, t)"
   ]
  },
  {
   "cell_type": "markdown",
   "metadata": {},
   "source": [
    "Functions related to varying kin and determining the corresponding period"
   ]
  },
  {
   "cell_type": "code",
   "execution_count": null,
   "metadata": {
    "collapsed": true
   },
   "outputs": [],
   "source": [
    "def periodWithVarying_kin(state,t, kin):\n",
    "    \"\"\"Function to calculate period with varying kin\"\"\"\n",
    "    # unpack the initial state vector\n",
    "    M = state[0] #concentration of mRNA\n",
    "    Fc = state[1] #freuqency protein synthesised in cytoplasm\n",
    "    Fn = state[2] #successively built up protein concentration\n",
    "    # these are our constants\n",
    "    #Vs = 2.0\n",
    "    Vs = 1.5\n",
    "    Vm = 1.5\n",
    "    Vd = 1.0\n",
    "    ks = 0.5\n",
    "    K = 0.2\n",
    "    Km = 0.15\n",
    "    Kd = 0.15\n",
    "    kin = kin\n",
    "    kout = 0.1\n",
    "    n = 4 #Hill number\n",
    "    # compute state derivatives w.r.t time\n",
    "    dM = (Vs*(K**n))/(K**n+Fn**n)-(Vm*M/(Km+M))\n",
    "    dFc = ks*M - (Vd*(Fc/(Kd+Fc))) - (kin*Fc) + (kout*Fn)\n",
    "    dFn = kin*Fc - kout*Fn\n",
    "    # return the state derivatives\n",
    "    return [dM, dFc, dFn]"
   ]
  },
  {
   "cell_type": "code",
   "execution_count": null,
   "metadata": {
    "collapsed": true
   },
   "outputs": [],
   "source": [
    "def findPeriodBasedOnFc(minkin, maxkin,stepsize,state0, t):\n",
    "    \"\"\"Function to determine period by considering the protein level in cytoplasm F(t)\"\"\"\n",
    "    Ps = []\n",
    "    kinvalues = np.linspace(minkin,maxkin,stepsize)\n",
    "    # Iterate through all the kin values\n",
    "    for x in kinvalues:\n",
    "        result_odeint = odeint(periodWithVarying_kin, state0, t, args=(x,))\n",
    "        # Array containing the values of M\n",
    "        Farray = result_odeint[:,1]\n",
    "        # Get the indices of the maxima\n",
    "        # Index represents the no. of steps from start time\n",
    "        maxindices = argrelextrema(Farray, np.greater)\n",
    "         # List of all timepoints where F(t) is maximum\n",
    "        xlist = []\n",
    "        if len(maxindices[0]) > 1:\n",
    "            for item in maxindices[0]:\n",
    "                xlist.append(t[item])\n",
    "        # Get the differences between values\n",
    "        differences = np.diff(xlist)\n",
    "        #print(differences)\n",
    "        # Get the mean period\n",
    "        meanP = np.average(differences)\n",
    "        #print(meanP)\n",
    "        if 21.48 < meanP < 21.53:\n",
    "            # Append a tuple of (kin, mean period)\n",
    "            Ps.append((x, meanP, result_odeint, t, Farray[maxindices], t[maxindices], maxindices))\n",
    "    return Ps"
   ]
  },
  {
   "cell_type": "code",
   "execution_count": null,
   "metadata": {
    "collapsed": true
   },
   "outputs": [],
   "source": [
    "def findPeriodBasedOnM(minkin, maxkin,stepsize,state0, t):\n",
    "    \"\"\"Function to determine period by considering the protein level in cytoplasm  M(t)\"\"\"\n",
    "    Ps = []\n",
    "    kinvalues = np.linspace(minkin,maxkin,stepsize)\n",
    "    # Iterate through all the kin values\n",
    "    for x in kinvalues:\n",
    "        result_odeint = odeint(periodWithVarying_kin, state0, t, args=(x,))\n",
    "        # Array containing the values of M\n",
    "        Marray = result_odeint[:,0]\n",
    "        # Get the indices of the maxima\n",
    "        # Index represents the no. of steps from start time\n",
    "        maxindices = argrelextrema(Marray, np.greater)\n",
    "         # List of all timepoints where M(t) is maximum\n",
    "        xlist = []\n",
    "        if len(maxindices[0]) > 1:\n",
    "            for item in maxindices[0]:\n",
    "                xlist.append(t[item])\n",
    "        # Get the differences between values\n",
    "        differences = np.diff(xlist)\n",
    "        #print(differences)\n",
    "        # Get the mean period\n",
    "        meanP = np.average(differences)\n",
    "        #print(meanP)\n",
    "        if 21.48 < meanP < 21.53:\n",
    "            # Append a tuple of (kin, mean period)\n",
    "            Ps.append((x,meanP, result_odeint, t, Marray[maxindices], t[maxindices], maxindices))\n",
    "    return Ps"
   ]
  },
  {
   "cell_type": "code",
   "execution_count": null,
   "metadata": {
    "collapsed": true
   },
   "outputs": [],
   "source": [
    "def viewResultForPeriodsWithVarying_kin(results):\n",
    "    \"\"\"Function to view the plots given the result from function finding the periods with varying kin\"\"\"\n",
    "    for result in results:\n",
    "        kin = result[0]\n",
    "        period = result[1]\n",
    "        result_odeint = result[2]\n",
    "        time = result[3]\n",
    "        print(\"kin is \", \"%.4f\"%kin, \" and period is \", \"%.2f\"%period)\n",
    "        pointsWithPeaks = result[4]\n",
    "        timeWithPeaks = result[5]\n",
    "        maxindices = result[6]\n",
    "        viewCircadianClock(result_odeint)\n",
    "        \n",
    "              \n",
    "        fig, axes = plt.subplots(1,1, figsize=(10, 10))\n",
    "        labels = [\"concentration of mRNA\", \"protein level in cytoskeleton\", \"protein level in nucleus\"]\n",
    "        plt.plot (time, result_odeint[:,0], 'blue', time, result_odeint[:,1], 'green', time, result_odeint[:,2], 'red')\n",
    "        plt.plot(timeWithPeaks, pointsWithPeaks, '.', c= 'black')\n",
    "        plt.legend(labels, loc='best') \n",
    "        plt.xlabel(\"time\")\n",
    "        plt.ylabel(\"product concentration\")\n",
    "        plt.show()       \n",
    "        \n",
    "       \n"
   ]
  },
  {
   "cell_type": "code",
   "execution_count": null,
   "metadata": {
    "collapsed": true
   },
   "outputs": [],
   "source": [
    "def viewResultForPeriodsWithVarying_kinShow(results):\n",
    "    \"\"\"Function to view the plots given the result from function finding the periods with varying kin\"\"\"\n",
    "    for result in results:\n",
    "        kin = result[0]\n",
    "        period = result[1]\n",
    "        result_odeint = result[2]\n",
    "        time = result[3]\n",
    "        #print(\"kin is \", \"%.4f\"%kin, \" and period is \", \"%.2f\"%period)\n",
    "        pointsWithPeaks = result[4]\n",
    "        timeWithPeaks = result[5]\n",
    "        maxindices = result[6]\n",
    "        #viewCircadianClock(result_odeint)\n",
    "        fig, axes = plt.subplots(1,1, figsize=(10, 10))\n",
    "        #labels = [\"concentration of mRNA\", \"protein level in cytoskeleton\", \"protein level in nucleus\"]\n",
    "        plt.plot (time, result_odeint[:,1], 'green')\n",
    "        plt.plot(timeWithPeaks, pointsWithPeaks, '.', c= 'black')\n",
    "        #plt.legend(labels, loc='best') \n",
    "        plt.xlabel(\"time\")\n",
    "        plt.ylabel(\"protein concentration in cytoplasm\")\n",
    "        plt.show()       \n",
    "        "
   ]
  },
  {
   "cell_type": "code",
   "execution_count": null,
   "metadata": {
    "collapsed": true
   },
   "outputs": [],
   "source": [
    "def plotEves():\n",
    "    minkin = 0.01\n",
    "    maxkin = 0.1\n",
    "    stepsize = 1000\n",
    "    state0 = [0, 0, 0]\n",
    "    starttime = 0\n",
    "    endtime = 1000\n",
    "    intervals = 10000\n",
    "    t = np.linspace(starttime, endtime, intervals)\n",
    "    results = findPeriodBasedOnFc(minkin, maxkin,stepsize,state0, t)\n",
    "    currentresult = results[0]\n",
    "    Fcmaxindices = currentresult[6] #indices\n",
    "    print(Fcmaxindices)\n",
    "    Mresults = findPeriodBasedOnM(minkin, maxkin,stepsize,state0, t)\n",
    "    Mcurrentresult = Mresults[0]\n",
    "    Marrayvalues = Mcurrentresult[2][:,0][Fcmaxindices]\n",
    "    Farrayvalues = currentresult[4]\n",
    "    plt.plot(currentresult[2][:,1],Mcurrentresult[2][:,0])\n",
    "    plt.plot(Farrayvalues,Marrayvalues,'.', c = 'black')\n",
    "    plt.show()\n",
    "    \n",
    "\n",
    "    "
   ]
  },
  {
   "cell_type": "code",
   "execution_count": null,
   "metadata": {
    "collapsed": true
   },
   "outputs": [],
   "source": [
    "minkin = 0.01\n",
    "maxkin = 0.1\n",
    "stepsize = 1000\n",
    "state0 = [0, 0, 0]\n",
    "starttime = 0\n",
    "endtime = 1000\n",
    "intervals = 10000\n",
    "t = np.linspace(starttime, endtime, intervals)"
   ]
  },
  {
   "cell_type": "markdown",
   "metadata": {},
   "source": [
    "Results for period with varying kin based on protein concentration "
   ]
  },
  {
   "cell_type": "code",
   "execution_count": null,
   "metadata": {
    "collapsed": true
   },
   "outputs": [],
   "source": [
    "resultsFc = findPeriodBasedOnFc(minkin, maxkin, stepsize, state0, t)"
   ]
  },
  {
   "cell_type": "code",
   "execution_count": null,
   "metadata": {},
   "outputs": [],
   "source": [
    "print(\"Time points where Fc is maximal\")\n",
    "for value in resultsFc[0][5]:\n",
    "    print(\"%.2f\" % value, end = \", \")"
   ]
  },
  {
   "cell_type": "code",
   "execution_count": null,
   "metadata": {},
   "outputs": [],
   "source": [
    "viewResultForPeriodsWithVarying_kin(resultsFc)"
   ]
  },
  {
   "cell_type": "code",
   "execution_count": null,
   "metadata": {},
   "outputs": [],
   "source": [
    "viewResultForPeriodsWithVarying_kinShow(resultsFc)"
   ]
  },
  {
   "cell_type": "code",
   "execution_count": null,
   "metadata": {},
   "outputs": [],
   "source": [
    "plotEves()"
   ]
  },
  {
   "cell_type": "markdown",
   "metadata": {},
   "source": [
    "Results for period with varying kin based on mRNA concentration "
   ]
  },
  {
   "cell_type": "code",
   "execution_count": null,
   "metadata": {
    "collapsed": true
   },
   "outputs": [],
   "source": [
    "resultsM = findPeriodBasedOnM(minkin, maxkin, stepsize, state0, t)"
   ]
  },
  {
   "cell_type": "code",
   "execution_count": null,
   "metadata": {},
   "outputs": [],
   "source": [
    "viewResultForPeriodsWithVarying_kin(resultsM)"
   ]
  },
  {
   "cell_type": "markdown",
   "metadata": {},
   "source": [
    "Considering the results of varying kin and determining period based on mRNA and protein level in cytoplasm we conclude that when the value of kin is 0.0244 then the period becomes 21.51."
   ]
  },
  {
   "cell_type": "markdown",
   "metadata": {},
   "source": [
    "## Task 3"
   ]
  },
  {
   "cell_type": "code",
   "execution_count": null,
   "metadata": {
    "collapsed": true
   },
   "outputs": [],
   "source": [
    "def whichVs(t,light,dark,step):\n",
    "    \"\"\"Function to determine which Vs step to be used\"\"\"\n",
    "    # Normalize by 24 h\n",
    "    normalized = t-(t//24)*24\n",
    "    if normalized <= dark:\n",
    "        # Dark\n",
    "        currentVs = 1.5\n",
    "    else:\n",
    "        currentVs= 1.5 + step\n",
    "    return currentVs"
   ]
  },
  {
   "cell_type": "code",
   "execution_count": null,
   "metadata": {},
   "outputs": [],
   "source": []
  },
  {
   "cell_type": "code",
   "execution_count": null,
   "metadata": {
    "collapsed": true
   },
   "outputs": [],
   "source": [
    "def periodVaryingVsStep(state, t, s, light, dark):\n",
    "    \"\"\"Function for finding period with specified Vs step size\"\"\"\n",
    "    # Initial states\n",
    "    M = state[0] # mRNA concentration\n",
    "    Fc = state[1] # frequency protein synthesised in cytoplasm\n",
    "    Fn = state[2] # Successively built up protein concentration\n",
    "    # Constants/Parameters\n",
    "    step = s\n",
    "    Vs = 1.5\n",
    "    Vm = 1.5\n",
    "    Vd = 1.0\n",
    "    ks = 0.5\n",
    "    K = 0.2\n",
    "    Km = 0.15\n",
    "    Kd = 0.15\n",
    "    kin = 0.024 # Use the kin that produces a period of 21.5 h (intrinsic clock)\n",
    "    #kin = 0.02 # Original\n",
    "    kout = 0.1\n",
    "    n = 4 #Hill number\n",
    "    # Specific Vs values depending on current time t\n",
    "    currentVs = whichVs(t,light,dark,step)\n",
    "    # Compute state derivatives w.r.t time\n",
    "    solM = (currentVs*(K**n))/(K**n+Fn**n)-(Vm*M/(Km+M))\n",
    "    solFc = ks*M - (Vd*(Fc/(Kd+Fc))) - (kin*Fc) + (kout*Fn)\n",
    "    solFn = kin*Fc - kout*Fn\n",
    "    # Return state derivatives\n",
    "    return [solM, solFc, solFn]\n"
   ]
  },
  {
   "cell_type": "code",
   "execution_count": null,
   "metadata": {
    "collapsed": true
   },
   "outputs": [],
   "source": []
  },
  {
   "cell_type": "code",
   "execution_count": null,
   "metadata": {
    "collapsed": true
   },
   "outputs": [],
   "source": [
    "def calculatePeriod(array,t):\n",
    "    # Exclude the first two peak\n",
    "    #maxindices = argrelextrema(array[3:], np.greater)\n",
    "    maxindices = argrelextrema(array, np.greater)\n",
    "    # List of all timepoints where M(t) is maximum\n",
    "    xlist = []\n",
    "    if len(maxindices[0]) > 1:\n",
    "        for item in maxindices[0]:\n",
    "            xlist.append(t[item])\n",
    "    # Get the differences between values\n",
    "    # Represents local period\n",
    "    differences = np.diff(xlist)\n",
    "    meanP = np.mean(differences)\n",
    "    return meanP\n"
   ]
  },
  {
   "cell_type": "code",
   "execution_count": null,
   "metadata": {
    "collapsed": true
   },
   "outputs": [],
   "source": [
    "def findVsStep(state0, light,dark, t):\n",
    "\n",
    "    # Limits of the step size for Vs\n",
    "    minstep = 0.0\n",
    "    maxstep = 0.2\n",
    "    step = 1000\n",
    "    allsteps = np.linspace(minstep,maxstep,step)\n",
    "    stepPlot = []\n",
    "    meanPPlot = []\n",
    "    closeto24 = []\n",
    "    \n",
    "    # Iterate through all step sizes\n",
    "    for currentstep in allsteps:\n",
    "        state = odeint(periodVaryingVsStep, state0, t, args=(currentstep,light,dark))\n",
    "        Fcarray = state[:,1]\n",
    "        meanP = calculatePeriod(Fcarray,t)\n",
    "        if abs(meanP-24.0) <= 0.02:\n",
    "            closeto24.append((currentstep, meanP))\n",
    "            break\n",
    "        stepPlot.append(currentstep)\n",
    "        meanPPlot.append(meanP)\n",
    "    return stepPlot, meanPPlot, closeto24\n"
   ]
  },
  {
   "cell_type": "code",
   "execution_count": null,
   "metadata": {
    "collapsed": true
   },
   "outputs": [],
   "source": [
    "def plotResultsForVs(stepplot, meanpplot, closeto24, sate0, light, dark):\n",
    "    \n",
    "    if light == 12.0 and dark == 12.0:\n",
    "        plt.figure(1)\n",
    "        plt.plot(stepplot,meanpplot)\n",
    "        plt.title('Neurospora Clock: 12 h/12 light/dark Conditions')\n",
    "        plt.xlabel(\"Minimum step size of Vs\")\n",
    "        plt.ylabel(\"Mean Period\")\n",
    "        plt.show()\n",
    "\n",
    "    print(\"Vsstep and meanP values: \")\n",
    "    for tup in closeto24:\n",
    "        print(\"%.4f\"%tup[0], \"%.4f\"%tup[1])\n",
    "        # For 12 h/12 h conditions\n",
    "        step = tup[0]\n",
    "        # Plot using the parameters that produce 24 h\n",
    "        results12h = odeint(periodVaryingVsStep, state0, t, args=(step,light,dark))\n",
    "        Marray12h = results12h[:,0]\n",
    "        Fcarray12h = results12h[:,1]\n",
    "        Fnarray12h = results12h[:,2]\n",
    "        fig, axes = plt.subplots(1,1, figsize=(5, 5))\n",
    "        plt.title('Neurospora Clock: ' + str(light) + 'h/' + str(dark) + 'h light/dark Conditions \\n M(t) vs. Fc(t) \\n Period = 24 h')\n",
    "        plt.plot(Fcarray12h,Marray12h)\n",
    "        plt.ylabel(\"M(t)\")\n",
    "        plt.xlabel(\"F(t)\")\n",
    "        plt.show()\n",
    "        \n",
    "        fig, axes = plt.subplots(1,1, figsize=(10, 10))\n",
    "        labels = [\"concentration of mRNA\", \"protein level in cytoskeleton\", \"protein level in nucleus\"]\n",
    "        plt.title('Neurospora Clock: '+ str(light) + 'h/' + str(dark) + 'h light/dark Conditions')\n",
    "        # Plot the M(t), Fc(t), and Fn(t) concentrations over time\n",
    "        plt.plot(t, Marray12h, 'blue', t, Fcarray12h, 'green', t, Fnarray12h, 'red')\n",
    "        # Plot the light and dark stimuli \n",
    "        # 1 if light, 0 if dark\n",
    "        vsarray = [whichVs(i,light,dark,step) for i in t]\n",
    "        plt.plot(t, vsarray, '--', c='orange')\n",
    "        plt.ylabel(\"Concentration\")\n",
    "        plt.xlabel(\"Time\")\n",
    "        plt.legend(labels, loc='best')\n",
    "        plt.show()"
   ]
  },
  {
   "cell_type": "code",
   "execution_count": null,
   "metadata": {},
   "outputs": [],
   "source": [
    "light = 12\n",
    "dark = 12\n",
    "step = 0.5\n",
    "results = odeint(periodVaryingVsStep, state0, t, args=(step,light,dark))\n",
    "Marray = results[:,0]\n",
    "Fcarray = results[:,1]\n",
    "Fnarray = results[:,2]\n",
    "fig, axes = plt.subplots(1,1, figsize=(5, 5))\n",
    "plt.title('Neurospora Clock: ' + str(light) + 'h/' + str(dark) + 'h light/dark Conditions \\n M(t) vs. Fc(t) \\n Period = 24 h')\n",
    "plt.plot(Fcarray,Marray)\n",
    "plt.ylabel(\"M(t)\")\n",
    "plt.xlabel(\"F(t)\")\n",
    "fig, axes = plt.subplots(1,1, figsize=(10, 7))\n",
    "labels = [\"concentration of mRNA\", \"protein level in cytoskeleton\", \"protein level in nucleus\"]\n",
    "plt.title('Neurospora Clock: '+ str(light) + 'h/' + str(dark) + 'h light/dark Conditions')\n",
    "# Plot the M(t), Fc(t), and Fn(t) concentrations over time\n",
    "plt.plot(t, Marray, 'blue', t, Fcarray, 'green', t, Fnarray, 'red')\n",
    "vsarray = [whichVs(i,light,dark,step) for i in t]\n",
    "plt.plot(t, vsarray, '--', c='orange')\n",
    "plt.ylabel(\"Concentration\")\n",
    "plt.xlabel(\"Time\")\n",
    "plt.legend(labels, loc='best')\n",
    "plt.show()\n",
    "\n",
    "period = calculatePeriod(Fcarray,t)\n",
    "print(\"The period for 12 h/12 h with step = 0.5 is\",period)\n"
   ]
  },
  {
   "cell_type": "code",
   "execution_count": null,
   "metadata": {},
   "outputs": [],
   "source": [
    "state0 = [0, 0, 0]\n",
    "t = np.linspace(0, 500, 10000)\n",
    "light = 12.0\n",
    "dark = 12.0\n",
    "stepplot, meanpplot, closeto24 = findVsStep(state0, light, dark, t)\n",
    "plotResultsForVs(stepplot, meanpplot, closeto24, state0, light, dark)"
   ]
  },
  {
   "cell_type": "markdown",
   "metadata": {},
   "source": [
    "## Phase"
   ]
  },
  {
   "cell_type": "code",
   "execution_count": null,
   "metadata": {},
   "outputs": [],
   "source": []
  },
  {
   "cell_type": "code",
   "execution_count": null,
   "metadata": {
    "collapsed": true
   },
   "outputs": [],
   "source": [
    "def whichVsPhase(t,light,dark,step,phase):\n",
    "    # Normalize by 24 h\n",
    "    vs = 1.5\n",
    "    normalized = t-(t//24)*24\n",
    "    if ((normalized-phase) >= 0) and ((normalized) < (light+phase)):\n",
    "        vs = 1.5 + step\n",
    "    return vs"
   ]
  },
  {
   "cell_type": "code",
   "execution_count": null,
   "metadata": {
    "collapsed": true
   },
   "outputs": [],
   "source": [
    "def lightDarkWithPhase(t,light,dark,phase):\n",
    "    # Normalize by 24 h\n",
    "    #t = t-phase\n",
    "    normalized = t-(t//24)*24\n",
    "    #print(normalized)\n",
    "    if ((normalized-phase) >= 0) and ((normalized) < (light+phase)):\n",
    "        #print(((normalized-phase) < (light+phase)))\n",
    "        status = \"light\"\n",
    "    else:\n",
    "        status= \"dark\"\n",
    "    return status"
   ]
  },
  {
   "cell_type": "code",
   "execution_count": null,
   "metadata": {
    "collapsed": true
   },
   "outputs": [],
   "source": []
  },
  {
   "cell_type": "code",
   "execution_count": null,
   "metadata": {
    "collapsed": true
   },
   "outputs": [],
   "source": [
    "def periodVaryingVsStepPhaseOrig(state, t, s, light, dark, phase):\n",
    "    \"\"\"Function for finding period with specified Vs step size\"\"\"\n",
    "    # Initial states\n",
    "    M = state[0] # mRNA concentration\n",
    "    Fc = state[1] # frequency protein synthesised in cytoplasm\n",
    "    Fn = state[2] # Successively built up protein concentration\n",
    "    # Constants/Parameters\n",
    "    step = s\n",
    "    Vs = 1.5\n",
    "    Vm = 1.5\n",
    "    Vd = 1.0\n",
    "    ks = 0.5\n",
    "    K = 0.2\n",
    "    Km = 0.15\n",
    "    Kd = 0.15\n",
    "    kin = 0.0244 # Use the kin that produces a period of 21.5 h (intrinsic clock)\n",
    "    #kin = 0.02 # Original\n",
    "    kout = 0.1\n",
    "    n = 4 #Hill number\n",
    "    # Specific Vs values depending on current time t\n",
    "    #currentVs = whichVsPhase(t,light,dark,step, phase)\n",
    "    currentVs = whichVsPhase(t,light,dark,step, phase)\n",
    "    # Compute state derivatives w.r.t time\n",
    "    solM = (currentVs*(K**n))/(K**n+Fn**n)-(Vm*M/(Km+M))\n",
    "    solFc = ks*M - (Vd*(Fc/(Kd+Fc))) - (kin*Fc) + (kout*Fn)\n",
    "    solFn = kin*Fc - kout*Fn\n",
    "    # Return state derivatives\n",
    "    return [solM, solFc, solFn]"
   ]
  },
  {
   "cell_type": "code",
   "execution_count": null,
   "metadata": {},
   "outputs": [],
   "source": [
    "# For 12 h/12 h conditions\n",
    "state0 = [0, 0, 0]\n",
    "light = 12.0\n",
    "dark = 12.0\n",
    "step = 0.0472\n",
    "t = np.linspace(0, 120, 1000)\n",
    "phases = [0,3,7,10]\n",
    "plt.figure()\n",
    "for x in phases:\n",
    "    #print(\"PHASE: \" , x)\n",
    "    # Plot using the parameters that produce 24 h\n",
    "    results = odeint(periodVaryingVsStepPhaseOrig, state0, t, args=(step, light, dark, x))\n",
    "    Marray = results[:,0]\n",
    "    Fcarray = results[:,1]\n",
    "    Fnarray = results[:,2]\n",
    "    meanP = calculatePeriod(Fcarray,t)\n",
    "    #print(\"MEAN PERIOD\",meanP)\n",
    "    \n",
    "    if x == 0:\n",
    "        color = \"blue\"\n",
    "        \n",
    "    elif x == 3:\n",
    "        color = \"green\"\n",
    "       \n",
    "    elif x==7:\n",
    "        color = \"red\"\n",
    "        \n",
    "    else:\n",
    "        color = \"purple\"\n",
    "    plt.title('Neurospora Clock: ' + str(light) + 'h/' + str(dark) + 'h light/dark Conditions \\n Phase: ' + str(x))\n",
    "    plt.plot(t, Fcarray, color)\n",
    "    plt.xlabel(\"Fc\")\n",
    "    plt.ylabel(\"Time\")\n",
    "    vsarray = [lightDarkWithPhase1Vs(i,light,dark,step,x) for i in t]\n",
    "    #plt.plot(t, vsarray, '--', c='orange')\n",
    "plt.show()"
   ]
  },
  {
   "cell_type": "markdown",
   "metadata": {},
   "source": [
    "## Task 4"
   ]
  },
  {
   "cell_type": "code",
   "execution_count": null,
   "metadata": {
    "scrolled": false
   },
   "outputs": [],
   "source": [
    "state0 = [0, 0, 0]\n",
    "light = 18.0\n",
    "dark = 6.0\n",
    "t = np.linspace(0, 500, 10000)\n",
    "stepplot, meanpplot, closeto24 = findVsStep(state0, light,dark, t)\n",
    "plotResultsForVs(stepplot, meanpplot, closeto24, state0, light, dark)"
   ]
  },
  {
   "cell_type": "code",
   "execution_count": null,
   "metadata": {
    "scrolled": true
   },
   "outputs": [],
   "source": [
    "state0 = [0, 0, 0]\n",
    "light = 16.0\n",
    "dark = 8.0\n",
    "t = np.linspace(0, 500, 10000)\n",
    "stepplot, meanpplot, closeto24 = findVsStep(state0, light, dark, t)\n",
    "plotResultsForVs(stepplot, meanpplot, closeto24, state0, light, dark)"
   ]
  },
  {
   "cell_type": "markdown",
   "metadata": {
    "collapsed": true
   },
   "source": [
    "The minimal Vs step increase in order to achieve a period of approximately 24 hours in 3 cases is as follows:\n",
    "\n",
    "12 hours of light and 12 hours of dark --> 0.0472 \n",
    "\n",
    "18 hours of light and 6 hours of dark --> 0.1397 \n",
    "\n",
    "16 hours of light and 8 hours of dark --> 0.0691 "
   ]
  }
 ],
 "metadata": {
  "kernelspec": {
   "display_name": "Python 3",
   "language": "python",
   "name": "python3"
  },
  "language_info": {
   "codemirror_mode": {
    "name": "ipython",
    "version": 3
   },
   "file_extension": ".py",
   "mimetype": "text/x-python",
   "name": "python",
   "nbconvert_exporter": "python",
   "pygments_lexer": "ipython3",
   "version": "3.6.2"
  }
 },
 "nbformat": 4,
 "nbformat_minor": 2
}

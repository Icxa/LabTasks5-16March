{
 "cells": [
  {
   "cell_type": "code",
   "execution_count": 16,
   "metadata": {
    "collapsed": true
   },
   "outputs": [],
   "source": [
    "import numpy as np\n",
    "import matplotlib.pyplot as plt\n",
    "import math\n",
    "from scipy.integrate import odeint\n",
    "from __future__ import print_function, division\n",
    "from scipy.signal import argrelextrema"
   ]
  },
  {
   "cell_type": "markdown",
   "metadata": {},
   "source": [
    "# Exercise1"
   ]
  },
  {
   "cell_type": "markdown",
   "metadata": {},
   "source": [
    "## Task1"
   ]
  },
  {
   "cell_type": "markdown",
   "metadata": {},
   "source": [
    "Exponential model of growth of an organism is dN/dt rN where N(t) is the population at time t and r > 0 is the growth rate.\n",
    "\n",
    "To overcome the ideas of overcrowding and limited resources in the exponential growth model logistic equation is used. \n",
    "\n",
    "One dimensional logistic equation is:\n",
    "\n",
    "dN/dt = r*N*(1-N/K) where N(t) is the population at time t, r > 0 is the growth rate and K is the carrying capacity"
   ]
  },
  {
   "cell_type": "markdown",
   "metadata": {},
   "source": [
    "### Part 1"
   ]
  },
  {
   "cell_type": "markdown",
   "metadata": {},
   "source": [
    "Solve the above equation analytically and plot the result in a time series manner."
   ]
  },
  {
   "cell_type": "markdown",
   "metadata": {},
   "source": [
    "#### Solution"
   ]
  },
  {
   "cell_type": "markdown",
   "metadata": {},
   "source": [
    "Note: For simplicity N(t) is written as N\n",
    "\n",
    "Analytical Solution of the given equation is given by applying the following steps\n",
    "\n",
    "$\\frac{dN}{dt} = r \\times {N \\times (1-\\frac{N}{K})}$\n",
    "\n",
    "Seperate the 2 variables N and t\n",
    "\n",
    "$\\frac{dN}{N(1-\\frac{N}{K})} = r \\times dt$\n",
    "\n",
    "Partial Fraction Decomposition\n",
    "\n",
    "$\\frac{1}{N(1-\\frac{N}{K})} = \\frac{1}{N} + \\frac{\\frac{1}{K}}{1-\\frac{N}{K}}$\n",
    "\n",
    "Substitution and Integration\n",
    "\n",
    "$\\int \\frac{1}{N} + \\frac{\\frac{1}{K}}{1-\\frac{N}{K}} dN = \\int r \\times dt$\n",
    "\n",
    "Separate Integration for each term \n",
    "\n",
    "$\\int r \\times dt = rt + C_1$\n",
    "\n",
    "$\\int \\frac{1}{N} dN = \\ln{N} + C_2$\n",
    "\n",
    "For $\\int \\frac{\\frac{1}{K}}{1 - \\frac{N}{K}} dN$ \n",
    "\n",
    "Assume $u = 1 - \\frac{N}{K}$ => $du = - \\frac{1}{k} dN$\n",
    "\n",
    "$\\int \\frac{-du}{u} = -\\ln u + C_3 = -\\ln{1 - \\frac{N}{K}} + C_3$\n",
    "\n",
    "$\\ln{N} - \\ln{1 - \\frac{N}{K}} = \\ln{\\frac{N}{1-\\frac{N}{K}}} = rt + C$\n",
    "\n",
    "$\\frac{N}{1-\\frac{N}{K}} = e^{rt + C}$\n",
    "\n",
    "$\\frac{N}{1-\\frac{N}{K}}= Ae^{rt}$\n",
    "\n",
    "Obtain the equation in terms of N\n",
    "\n",
    "$N = Ae^{rt} \\times 1 - \\frac{N}{K}$\n",
    "\n",
    "$N = Ae^{rt} - Ae^{rt} \\times \\frac{N}{K}$\n",
    "\n",
    "$N + Ae^{rt} \\times \\frac{N}{K} = Ae^{rt}$\n",
    "\n",
    "$N\\big[1 + \\frac{Ae^{rt}}{K}\\big] = Ae^{rt}$\n",
    "\n",
    "$N = \\frac{Ae^{rt}}{1 + \\frac{Ae^{rt}}{K}}$\n",
    "\n",
    "To obtain a value for A, let us consider an initial condition at time $t=0$\n",
    "\n",
    "$Ae^0 = A$\n",
    "\n",
    "$No = \\frac{A}{1 + \\frac{A}{K}}$\n",
    "\n",
    "$No = \\frac{AK}{K+A}$\n",
    "\n",
    "$No(K+A) = AK$\n",
    "\n",
    "$NoK + NoA = AK$\n",
    "\n",
    "$NoA - AK = -NoK$\n",
    "\n",
    "$AK -NoA = NoK$\n",
    "\n",
    "$A = \\frac{NoK}{K - No}$"
   ]
  },
  {
   "cell_type": "code",
   "execution_count": 2,
   "metadata": {},
   "outputs": [
    {
     "data": {
      "image/png": "[encoded data removed]",
      "text/plain": [
       "<matplotlib.figure.Figure at 0x1f93a1981d0>"
      ]
     },
     "metadata": {},
     "output_type": "display_data"
    }
   ],
   "source": [
    "#Time steps: an array of values starting from 0 going up to 10, in step size of 0.01\n",
    "t = np.arange(0, 10, 0.01)\n",
    "# parameters\n",
    "r = 2\n",
    "K = 10\n",
    "# initial condition\n",
    "No = 0.1\n",
    "A = (No*K)/(K-No)\n",
    "N = (A*np.exp(r*t))/(1 + ((A*np.exp(r*t))/K))\n",
    "# t is an array, it is the same as doing it for each element\n",
    "plt.plot(t, N)\n",
    "plt.legend(['approximate analytical solution'], loc='best') # draw legend\n",
    "plt.xlabel('Time=t') # define label of x-axis\n",
    "plt.ylabel('Population=N') # and of y-axis\n",
    "plt.show()"
   ]
  },
  {
   "cell_type": "markdown",
   "metadata": {},
   "source": [
    "### Part 2"
   ]
  },
  {
   "cell_type": "markdown",
   "metadata": {},
   "source": [
    "Simulate it using numerical tools and compare the plots (try different solvers and step sizes)"
   ]
  },
  {
   "cell_type": "markdown",
   "metadata": {},
   "source": [
    "Using scipy.integrate package function odeint"
   ]
  },
  {
   "cell_type": "code",
   "execution_count": 3,
   "metadata": {
    "collapsed": true
   },
   "outputs": [],
   "source": [
    " def derivativeFunction(N, t, r, K):\n",
    "    \"\"\"Derivative functiion\"\"\"   \n",
    "     # let's define the right-hand side of the differential equation\n",
    "    # It must be a function of the dependent variable (N) and of the time (t), even if time does not appear explicitly\n",
    "    return r*N*(1-N/K)"
   ]
  },
  {
   "cell_type": "code",
   "execution_count": 6,
   "metadata": {
    "collapsed": true
   },
   "outputs": [],
   "source": [
    "def demo_odeint(time, No, r, K):\n",
    "    #The order of the arguments for ode function: the derivative function, the initial condition, the points where we want the solution, and a list of parameters\n",
    "    N = odeint(derivativeFunction, No, time, (r, K))\n",
    "    # plot the solution\n",
    "    plt.plot(time, N)\n",
    "    plt.xlabel('Time') # define label of x-axis\n",
    "    plt.ylabel('Population') # and of y-axis\n",
    "    plt.legend(['Exact solution using scipy.integrate'], loc='best') # draw legend\n",
    "    plt.show()\n"
   ]
  },
  {
   "cell_type": "code",
   "execution_count": 7,
   "metadata": {},
   "outputs": [
    {
     "data": {
      "image/png": "[encoded data removed]",
      "text/plain": [
       "<matplotlib.figure.Figure at 0x1f93d042048>"
      ]
     },
     "metadata": {},
     "output_type": "display_data"
    }
   ],
   "source": [
    "# time steps: an array of values starting from 0 going up to 10, in steps of 0.01\n",
    "t = np.arange(0, 10, 0.01)\n",
    "# parameters\n",
    "r = 2\n",
    "K = 10\n",
    "# initial condition\n",
    "No = 0.1\n",
    "demo_odeint(t, No, r, K)\n"
   ]
  },
  {
   "cell_type": "code",
   "execution_count": 8,
   "metadata": {},
   "outputs": [
    {
     "data": {
      "image/png": "[encoded data removed]",
      "text/plain": [
       "<matplotlib.figure.Figure at 0x1f93d136fd0>"
      ]
     },
     "metadata": {},
     "output_type": "display_data"
    }
   ],
   "source": [
    "# time steps: an array of values starting from 0 going up to 10, in steps of 0.1\n",
    "t = np.arange(0, 10, 0.1)\n",
    "# parameters\n",
    "r = 2\n",
    "K = 10\n",
    "# initial condition\n",
    "No = 0.1\n",
    "demo_odeint(t, No, r, K)\n",
    "\n"
   ]
  },
  {
   "cell_type": "markdown",
   "metadata": {},
   "source": [
    "Eulers method"
   ]
  },
  {
   "cell_type": "code",
   "execution_count": 9,
   "metadata": {
    "collapsed": true
   },
   "outputs": [],
   "source": [
    "# Logistic growth rate differential equation\n",
    "def logisticGrowth(N,K,r):\n",
    "    return r*N*(1-(N/K))"
   ]
  },
  {
   "cell_type": "code",
   "execution_count": 10,
   "metadata": {
    "collapsed": true
   },
   "outputs": [],
   "source": [
    "def demoEulersMethod(start, end, nsteps, carryingCapacity, growthRate, initialValue):\n",
    "    stepSize = (end-start)/nsteps\n",
    "    # Create arrays to hold values of t and N\n",
    "    time = np.arange(start,end+stepSize,stepSize)\n",
    "    narray = np.zeros((nsteps+1,))\n",
    "    # set the initial values\n",
    "    time[0], narray[0] = initialValue\n",
    "    # Apply Euler's method\n",
    "    for i in range(1,nsteps+1):\n",
    "        narray[i] = narray[i-1] + stepSize*logisticGrowth(narray[i-1], carryingCapacity, growthRate)\n",
    "    return time, narray"
   ]
  },
  {
   "cell_type": "code",
   "execution_count": 11,
   "metadata": {
    "collapsed": true
   },
   "outputs": [],
   "source": [
    "# Analytical solution\n",
    "def analyticalSolution(t, No, r, K):\n",
    "    No = 5.3\n",
    "    r = 0.029443\n",
    "    K = 189.4\n",
    "    A = (No*K)/(K-No) \n",
    "    N = (A*np.exp(r*t))/(1 + ((A*np.exp(r*t))/K))\n",
    "    return N\n"
   ]
  },
  {
   "cell_type": "code",
   "execution_count": 12,
   "metadata": {},
   "outputs": [],
   "source": [
    "def plotComparisonEulersAnalytical(time, narray, N):\n",
    "    plt.plot(time, narray, label='Euler')\n",
    "    plt.plot(time, N, label='Analytical' )\n",
    "    plt.title( \"Euler's Method Logistic Growth, steps=\"+str(nsteps))\n",
    "    plt.xlabel('time') \n",
    "    plt.ylabel('solution')\n",
    "    plt.legend(loc=4)\n",
    "    plt.grid()\n",
    "    plt.show()\n"
   ]
  },
  {
   "cell_type": "code",
   "execution_count": 14,
   "metadata": {},
   "outputs": [
    {
     "data": {
      "image/png": "[encoded data removed]",
      "text/plain": [
       "<matplotlib.figure.Figure at 0x1f93d16c0f0>"
      ]
     },
     "metadata": {},
     "output_type": "display_data"
    }
   ],
   "source": [
    "start = 0\n",
    "end = 300\n",
    "nsteps = 50\n",
    "carryingCapacity = 189.4\n",
    "growthRate = 0.029443\n",
    "initialValue = (0.0,5.3)\n",
    "No = 5.3\n",
    "time, narray = demoEulersMethod(start, end, nsteps, carryingCapacity, growthRate, initialValue)\n",
    "N = analyticalSolution(time, No, growthRate, carryingCapacity)\n",
    "plotComparisonEulersAnalytical(time, narray, N)"
   ]
  },
  {
   "cell_type": "code",
   "execution_count": 15,
   "metadata": {},
   "outputs": [
    {
     "data": {
      "image/png": "[encoded data removed]",
      "text/plain": [
       "<matplotlib.figure.Figure at 0x1f93d236dd8>"
      ]
     },
     "metadata": {},
     "output_type": "display_data"
    }
   ],
   "source": [
    "start = 0\n",
    "end = 300\n",
    "nsteps = 50\n",
    "carryingCapacity = 189.4\n",
    "growthRate = 0.029443\n",
    "initialValue = (0.0,5.3)\n",
    "No = 5.3\n",
    "time, narray = demoEulersMethod(start, end, nsteps, carryingCapacity, growthRate, initialValue)\n",
    "N = analyticalSolution(time, No, growthRate, carryingCapacity)\n",
    "plotComparisonEulersAnalytical(time, narray, N)"
   ]
  },
  {
   "cell_type": "markdown",
   "metadata": {},
   "source": [
    "## Task 2"
   ]
  },
  {
   "cell_type": "markdown",
   "metadata": {
    "collapsed": true
   },
   "source": [
    "3-dimensional Goldbeter model for expression and regulation of the Neurospora “frequency protein” (FRQ)\n",
    "\n",
    "For the concentrations of the mRNA (M), the “frequency protein” (FC) synthesized in the cytoplasm and the successively built up protein concentration (FN) in the nucleus, there is a system of three differential equations:"
   ]
  },
  {
   "cell_type": "markdown",
   "metadata": {},
   "source": [
    "$\\frac{dM}{dt} = V_s \\frac{K^n}{K^n + F_N^n} - V_m \\frac{M}{K_M+M}$\n",
    "\n",
    "$\\frac{dF_C}{dt} = k_s M - V_d \\frac{F_C}{K_d + F_C} - k_{in}F_C + k_{out}F_N$\n",
    "\n",
    "$\\frac{dF_N}{dt} = k_{in}F_C - k_{out}F_N$"
   ]
  },
  {
   "cell_type": "code",
   "execution_count": 17,
   "metadata": {
    "collapsed": true
   },
   "outputs": [],
   "source": [
    "def Period(state,t):\n",
    "    # unpack the initial state vector\n",
    "    M = state[0] #concentration of mRNA\n",
    "    Fc = state[1] #freuqency protein synthesised in cytoplasm\n",
    "    Fn = state[2] #successively built up protein concentration\n",
    "    # these are our constants\n",
    "    #Vs = 2.0\n",
    "    Vs = 1.5\n",
    "    Vm = 1.5\n",
    "    Vd = 1.0\n",
    "    ks = 0.5\n",
    "    K = 0.2\n",
    "    Km = 0.15\n",
    "    Kd = 0.15\n",
    "    kin = 0.02\n",
    "    kout = 0.1\n",
    "    n = 4 #Hill number\n",
    "    # compute state derivatives w.r.t time\n",
    "    dM = (Vs*(K**n))/(K**n+Fn**n)-(Vm*M/(Km+M))\n",
    "    dFc = ks*M - (Vd*(Fc/(Kd+Fc))) - (kin*Fc) + (kout*Fn)\n",
    "    dFn = kin*Fc - kout*Fn\n",
    "    # return the state derivatives\n",
    "    return [dM, dFc, dFn]"
   ]
  },
  {
   "cell_type": "code",
   "execution_count": 18,
   "metadata": {
    "collapsed": true
   },
   "outputs": [],
   "source": [
    "\n",
    "def getMeanPeriodandPeakInfo(array, t):\n",
    "    \"\"\"\n",
    "    Calculate the mean period and return coordinates of peaks\n",
    "    xlist will store the corresponding time points of peaks\n",
    "    maxindices is indices in the array representing peaks\n",
    "    \"\"\"\n",
    "    # Get the indices of the maxima\n",
    "    maxindices = argrelextrema(array, np.greater)\n",
    "    \n",
    "    # List of all timepoints where maxindices are obtained\n",
    "    xlist = []\n",
    "    if len(maxindices[0]) > 1:\n",
    "        for item in maxindices[0]:\n",
    "            xlist.append(t[item])\n",
    "    \n",
    "    # Get the differences between parwise time values\n",
    "    # Represents local period\n",
    "    differences = np.diff(xlist)\n",
    "    \n",
    "    # Peak differences\n",
    "    peakdiff = np.diff(maxindices[0])\n",
    "    \n",
    "    # Quarter values\n",
    "    m = len(t)-maxindices[0][-1]\n",
    "    \n",
    "    q0value = np.array([maxindices[0][0]]*3 * np.array([0.25,0.5,0.75]))\n",
    "    q1value = maxindices[0][:-1] + peakdiff/4\n",
    "    q2value = maxindices[0][:-1] + peakdiff/4*2\n",
    "    q3value = maxindices[0][:-1] + peakdiff/4*3\n",
    "    \n",
    "    q1lastv = (maxindices[0][-1] + peakdiff[-1]*0.25).astype(int) if ((m//(peakdiff[-1]*0.25)!=0)) else 0\n",
    "    q2lastv = (maxindices[0][-1] + peakdiff[-1]*0.5).astype(int)  if ((m//(peakdiff[-1]*0.5)!=0)) else 0\n",
    "    q3lastv = (maxindices[0][-1] + peakdiff[-1]*0.75).astype(int)  if ((m//(peakdiff[-1]*0.75)!=0)) else 0\n",
    "    \n",
    "    allqpositions = np.concatenate((q0value.astype(int),q1value.astype(int),q2value.astype(int),q3value.astype(int),np.array([q1lastv]),np.array([q2lastv]),np.array([q3lastv])))\n",
    "    \n",
    "    q0value = array[q0value.astype(int)]\n",
    "    q1value = array[q1value.astype(int)]\n",
    "    q2value = array[q2value.astype(int)]\n",
    "    q3value = array[q3value.astype(int)]\n",
    "    \n",
    "    q1lastpos = np.array([t[q1lastv]])\n",
    "    q2lastpos = np.array([t[q2lastv]])\n",
    "    q3lastpos = np.array([t[q3lastv]])\n",
    "    \n",
    "    q1lastv = np.array([array[q1lastv]])\n",
    "    q2lastv = np.array([array[q2lastv]])\n",
    "    q3lastv = np.array([array[q3lastv]])\n",
    "    \n",
    "    # Get the mean period\n",
    "    meanP = np.average(differences)\n",
    "\n",
    "    # Quarter time points\n",
    "    q0 = np.array([xlist[0]]*3 * np.array([0.25,0.5,0.75])) # quarters before first peak\n",
    "    q1 = xlist[:-1] + differences/4\n",
    "    q2 = xlist[:-1] + differences*2/4\n",
    "    q3 = xlist[:-1] + differences*3/4\n",
    "    \n",
    "    # Array values for quarters\n",
    "    quartertimes = np.concatenate((q0,q1,q2,q3,q1lastpos,q2lastpos,q3lastpos))\n",
    "    quartervalues = np.concatenate((q0value,q1value,q2value,q3value,q1lastv,q2lastv,q3lastv))\n",
    "    \n",
    "    return meanP, xlist, maxindices, quartertimes, quartervalues, allqpositions\n",
    "    "
   ]
  },
  {
   "cell_type": "markdown",
   "metadata": {},
   "source": [
    "### Part a"
   ]
  },
  {
   "cell_type": "code",
   "execution_count": 19,
   "metadata": {
    "collapsed": true
   },
   "outputs": [],
   "source": [
    "def periodWithVarying_kin(state,t, kin):\n",
    "    # unpack the initial state vector\n",
    "    M = state[0] #concentration of mRNA\n",
    "    Fc = state[1] #freuqency protein synthesised in cytoplasm\n",
    "    Fn = state[2] #successively built up protein concentration\n",
    "    # these are our constants\n",
    "    #Vs = 2.0\n",
    "    Vs = 1.5\n",
    "    Vm = 1.5\n",
    "    Vd = 1.0\n",
    "    ks = 0.5\n",
    "    K = 0.2\n",
    "    Km = 0.15\n",
    "    Kd = 0.15\n",
    "    kin = kin\n",
    "    kout = 0.1\n",
    "    n = 4 #Hill number\n",
    "    # compute state derivatives w.r.t time\n",
    "    dM = (Vs*(K**n))/(K**n+Fn**n)-(Vm*M/(Km+M))\n",
    "    dFc = ks*M - (Vd*(Fc/(Kd+Fc))) - (kin*Fc) + (kout*Fn)\n",
    "    dFn = kin*Fc - kout*Fn\n",
    "    # return the state derivatives\n",
    "    return [dM, dFc, dFn]"
   ]
  },
  {
   "cell_type": "code",
   "execution_count": 20,
   "metadata": {
    "collapsed": true
   },
   "outputs": [],
   "source": [
    "def findPeriod(minkin, maxkin,stepsize,state0, timeGap):\n",
    "    \n",
    "    # Start and end time in hours\n",
    "    starttime = 0.0\n",
    "    endtime = 60\n",
    "    t = np.arange(starttime, endtime, timeGap)\n",
    "    \n",
    "    results = []\n",
    "    \n",
    "    # Evaluate on all kin values with certain stepsize\n",
    "    kinvalues = np.arange(minkin,maxkin,stepsize)\n",
    "    \n",
    "    # Iterate through all the kin values\n",
    "    for x in kinvalues:\n",
    "        result_odeint = odeint(periodWithVarying_kin, state0, t, args=(x,))\n",
    "        # Get results for M, Fc, and Fn\n",
    "        currentkinresults = []\n",
    "        for i in range(3):\n",
    "            array = result_odeint[:,i]\n",
    "            meanP,xlist,maxindices,quartertimes,quartervalues,allqpositions = getMeanPeriodandPeakInfo(array,t)\n",
    "            currentkinresults.append((x, meanP, result_odeint, t,  xlist, array[maxindices], maxindices, quartertimes, quartervalues, allqpositions))\n",
    "    results.append(currentkinresults)\n",
    "    # Results is array of array\n",
    "    # results[0] is results for first kin evaluated\n",
    "    # results[0][0] is results for M for first kin\n",
    "    # results[0][1] is results for Fc for first kin\n",
    "    # results[0][2] is results for Fn for first kin\n",
    "    #print(len(results))\n",
    "    return results"
   ]
  },
  {
   "cell_type": "code",
   "execution_count": 21,
   "metadata": {
    "collapsed": true
   },
   "outputs": [],
   "source": [
    "def viewResultForPeriodsForProteinWithVarying_kin(results):\n",
    "    # Based on Fc\n",
    "    kin = results[1][0]\n",
    "    period = results[1][1]\n",
    "    result_odeint = results[1][2]\n",
    "    time = results[1][3]\n",
    "    peaksF = results[1][5]\n",
    "    peaksM = results[0][2][:,0][results[1][6]]\n",
    "\n",
    "    # Plot M(t) vs Fc(t)\n",
    "    # With quarters (evening, midnight, morning, and noon)\n",
    "    fig, axes = plt.subplots(1,1, figsize=(5, 5))\n",
    "    plt.plot(result_odeint[:,1], result_odeint[:,0], c = 'blue')\n",
    "    # Plot the quarter points\n",
    "    plt.plot(results[1][8],results[0][2][:,0][results[1][9]], '.', c = 'orange')\n",
    "    # Plot the eves based on Fc\n",
    "    plt.plot(peaksF,peaksM, '.', c = 'black')\n",
    "    plt.xlabel(\"concentration of protein in cytoplasm\")\n",
    "    plt.ylabel(\"concentration of mRNA\")\n",
    "    plt.show()\n",
    "    \n",
    "    # Plot all M, Fc, and Fn over time\n",
    "    fig, axes = plt.subplots(1,1, figsize=(10, 10))\n",
    "    labels = [\"concentration of mRNA\", \"protein level in cytoskeleton\", \"protein level in nucleus\"]\n",
    "    plt.plot (time, result_odeint[:,0], 'blue', time, result_odeint[:,1], 'green', time, result_odeint[:,2], 'red')\n",
    "    # Plot M quarter points - index is 0\n",
    "    plt.plot(results[0][4],results[0][5], '.', c= 'black')\n",
    "    plt.plot(results[0][7],results[0][8], '.', c= 'orange')\n",
    "    # Plot Fc quarter points - index is 1\n",
    "    plt.plot(results[1][4],results[1][5], '.', c= 'black')\n",
    "    plt.plot(results[1][7],results[1][8], '.', c= 'orange')\n",
    "    # Plot Fn quarter points - index is 2\n",
    "    plt.plot(results[2][4],results[2][5], '.', c= 'black')\n",
    "    plt.plot(results[2][7],results[2][8], '.', c= 'orange')\n",
    "    plt.show()"
   ]
  },
  {
   "cell_type": "code",
   "execution_count": 22,
   "metadata": {
    "collapsed": true
   },
   "outputs": [],
   "source": [
    "minkin = 0.01\n",
    "maxkin = 0.1\n",
    "stepsize = .01\n",
    "state0 = [0, 0, 0]\n",
    "timeGap = 0.001"
   ]
  },
  {
   "cell_type": "code",
   "execution_count": 25,
   "metadata": {
    "collapsed": true
   },
   "outputs": [],
   "source": [
    "results = findPeriod(minkin, maxkin,stepsize,state0, timeGap)"
   ]
  },
  {
   "cell_type": "code",
   "execution_count": 26,
   "metadata": {},
   "outputs": [
    {
     "ename": "IndexError",
     "evalue": "list index out of range",
     "output_type": "error",
     "traceback": [
      "\u001b[1;31m---------------------------------------------------------------------------\u001b[0m",
      "\u001b[1;31mIndexError\u001b[0m                                Traceback (most recent call last)",
      "\u001b[1;32m<ipython-input-26-fe13cc923b9b>\u001b[0m in \u001b[0;36m<module>\u001b[1;34m()\u001b[0m\n\u001b[1;32m----> 1\u001b[1;33m \u001b[0mviewResultForPeriodsForProteinWithVarying_kin\u001b[0m\u001b[1;33m(\u001b[0m\u001b[0mresults\u001b[0m\u001b[1;33m)\u001b[0m\u001b[1;33m\u001b[0m\u001b[0m\n\u001b[0m",
      "\u001b[1;32m<ipython-input-21-feb320291eee>\u001b[0m in \u001b[0;36mviewResultForPeriodsForProteinWithVarying_kin\u001b[1;34m(results)\u001b[0m\n\u001b[0;32m      1\u001b[0m \u001b[1;32mdef\u001b[0m \u001b[0mviewResultForPeriodsForProteinWithVarying_kin\u001b[0m\u001b[1;33m(\u001b[0m\u001b[0mresults\u001b[0m\u001b[1;33m)\u001b[0m\u001b[1;33m:\u001b[0m\u001b[1;33m\u001b[0m\u001b[0m\n\u001b[0;32m      2\u001b[0m     \u001b[1;31m# Based on Fc\u001b[0m\u001b[1;33m\u001b[0m\u001b[1;33m\u001b[0m\u001b[0m\n\u001b[1;32m----> 3\u001b[1;33m     \u001b[0mkin\u001b[0m \u001b[1;33m=\u001b[0m \u001b[0mresults\u001b[0m\u001b[1;33m[\u001b[0m\u001b[1;36m1\u001b[0m\u001b[1;33m]\u001b[0m\u001b[1;33m[\u001b[0m\u001b[1;36m0\u001b[0m\u001b[1;33m]\u001b[0m\u001b[1;33m\u001b[0m\u001b[0m\n\u001b[0m\u001b[0;32m      4\u001b[0m     \u001b[0mperiod\u001b[0m \u001b[1;33m=\u001b[0m \u001b[0mresults\u001b[0m\u001b[1;33m[\u001b[0m\u001b[1;36m1\u001b[0m\u001b[1;33m]\u001b[0m\u001b[1;33m[\u001b[0m\u001b[1;36m1\u001b[0m\u001b[1;33m]\u001b[0m\u001b[1;33m\u001b[0m\u001b[0m\n\u001b[0;32m      5\u001b[0m     \u001b[0mresult_odeint\u001b[0m \u001b[1;33m=\u001b[0m \u001b[0mresults\u001b[0m\u001b[1;33m[\u001b[0m\u001b[1;36m1\u001b[0m\u001b[1;33m]\u001b[0m\u001b[1;33m[\u001b[0m\u001b[1;36m2\u001b[0m\u001b[1;33m]\u001b[0m\u001b[1;33m\u001b[0m\u001b[0m\n",
      "\u001b[1;31mIndexError\u001b[0m: list index out of range"
     ]
    }
   ],
   "source": [
    "viewResultForPeriodsForProteinWithVarying_kin(results)"
   ]
  },
  {
   "cell_type": "code",
   "execution_count": null,
   "metadata": {
    "collapsed": true
   },
   "outputs": [],
   "source": []
  }
 ],
 "metadata": {
  "kernelspec": {
   "display_name": "Python 3",
   "language": "python",
   "name": "python3"
  },
  "language_info": {
   "codemirror_mode": {
    "name": "ipython",
    "version": 3
   },
   "file_extension": ".py",
   "mimetype": "text/x-python",
   "name": "python",
   "nbconvert_exporter": "python",
   "pygments_lexer": "ipython3",
   "version": "3.6.2"
  }
 },
 "nbformat": 4,
 "nbformat_minor": 2
}

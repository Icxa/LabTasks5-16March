{
 "cells": [
  {
   "cell_type": "code",
   "execution_count": 1,
   "metadata": {
    "collapsed": true
   },
   "outputs": [],
   "source": [
    "import numpy as np\n",
    "from scipy.integrate import odeint\n",
    "import matplotlib.pyplot as plt\n",
    "from scipy.signal import argrelextrema"
   ]
  },
  {
   "cell_type": "code",
   "execution_count": 2,
   "metadata": {
    "collapsed": true
   },
   "outputs": [],
   "source": [
    "def Period(state,t):\n",
    "    # unpack the initial state vector\n",
    "    M = state[0] #concentration of mRNA\n",
    "    Fc = state[1] #freuqency protein synthesised in cytoplasm\n",
    "    Fn = state[2] #successively built up protein concentration\n",
    "    # these are our constants\n",
    "    #Vs = 2.0\n",
    "    Vs = 1.5\n",
    "    Vm = 1.5\n",
    "    Vd = 1.0\n",
    "    ks = 0.5\n",
    "    K = 0.2\n",
    "    Km = 0.15\n",
    "    Kd = 0.15\n",
    "    kin = 0.02\n",
    "    kout = 0.1\n",
    "    n = 4 #Hill number\n",
    "    # compute state derivatives w.r.t time\n",
    "    dM = (Vs*(K**n))/(K**n+Fn**n)-(Vm*M/(Km+M))\n",
    "    dFc = ks*M - (Vd*(Fc/(Kd+Fc))) - (kin*Fc) + (kout*Fn)\n",
    "    dFn = kin*Fc - kout*Fn\n",
    "    # return the state derivatives\n",
    "    return [dM, dFc, dFn]"
   ]
  },
  {
   "cell_type": "code",
   "execution_count": 3,
   "metadata": {
    "collapsed": true
   },
   "outputs": [],
   "source": [
    "def viewCircadianClock(result_odeint):\n",
    "    fig, axes = plt.subplots(1,1, figsize=(5, 5))\n",
    "    plt.plot(result_odeint[:,1], result_odeint[:,0])\n",
    "    plt.xlabel(\"concentration of protein in cytoplasm\")\n",
    "    plt.ylabel(\"concentration of mRNA\")\n",
    "    plt.show()"
   ]
  },
  {
   "cell_type": "code",
   "execution_count": 4,
   "metadata": {
    "collapsed": true
   },
   "outputs": [],
   "source": [
    "def viewProductConcentrationEvolution(result_odeint, time):\n",
    "    fig, axes = plt.subplots(1,1, figsize=(10, 10))\n",
    "    labels = [\"concentration of mRNA\", \"protein level in cytoskeleton\", \"protein level in nucleus\"]\n",
    "    plt.plot (time, result_odeint[:,0], 'b', time, result_odeint[:,1], 'g', time, result_odeint[:,2], 'r')\n",
    "    #plt.plot(time, result_odeint[:,0], 'b')\n",
    "    #plt.plot(time, result_odeint[:,1], 'g')\n",
    "    #plt.plot(time, result_odeint[:,2], 'r')\n",
    "    plt.legend(labels, loc='best') \n",
    "    plt.show()\n"
   ]
  },
  {
   "cell_type": "code",
   "execution_count": 5,
   "metadata": {
    "collapsed": true
   },
   "outputs": [],
   "source": [
    "def periodWithVarying_kin(state,t, kin):\n",
    "    \n",
    "    # Unpack initial state vector\n",
    "    M = state[0] # mRNA concentration\n",
    "    Fc = state[1] # frequency protein synthesised in cytoplasm\n",
    "    Fn = state[2] # Successively built up protein concentration\n",
    "    \n",
    "    # Constants/Parmeters\n",
    "    #Vs = 2.0\n",
    "    Vs = 1.5\n",
    "    Vm = 1.5\n",
    "    Vd = 1.0\n",
    "    ks = 0.5\n",
    "    K = 0.2\n",
    "    Km = 0.15\n",
    "    Kd = 0.15\n",
    "    kin = kin\n",
    "    kout = 0.1\n",
    "    n = 4 #Hill number\n",
    "    \n",
    "    # Compute state derivatives w.r.t time\n",
    "    dM = (Vs*(K**n))/(K**n+Fn**n)-(Vm*M/(Km+M))\n",
    "    dFc = ks*M - (Vd*(Fc/(Kd+Fc))) - (kin*Fc) + (kout*Fn)\n",
    "    dFn = kin*Fc - kout*Fn\n",
    "    \n",
    "    # Return state derivatives\n",
    "    return [dM, dFc, dFn]"
   ]
  },
  {
   "cell_type": "code",
   "execution_count": 6,
   "metadata": {
    "collapsed": true
   },
   "outputs": [],
   "source": [
    "# Calculate the mean period and return coordinates of peaks\n",
    "# xlist is the corresponding time points of peaks\n",
    "# maxindices is indices in the array representing peaks\n",
    "def getMeanPeriodandPeakInfo(array,t):\n",
    "    \n",
    "    # Get the indices of the maxima\n",
    "    # Index represents the no. of steps from start time\n",
    "    maxindices = argrelextrema(array, np.greater)\n",
    "    \n",
    "    # List of all timepoints where M(t) is maximum\n",
    "    xlist = []\n",
    "\n",
    "    if len(maxindices[0]) > 1:\n",
    "        for item in maxindices[0]:\n",
    "            xlist.append(t[item])\n",
    "            \n",
    "    # Get the differences between values\n",
    "    # Represents local period\n",
    "    differences = np.diff(xlist)\n",
    "    \n",
    "    # Peak differences\n",
    "    peakdiff = np.diff(maxindices[0])\n",
    "\n",
    "    # Quarter values\n",
    "    m = len(t)-maxindices[0][-1]\n",
    "    q0value = np.array([maxindices[0][0]]*3 * np.array([0.25,0.5,0.75]))\n",
    "    q1value = maxindices[0][:-1] + peakdiff/4\n",
    "    q2value = maxindices[0][:-1] + peakdiff/4*2\n",
    "    q3value = maxindices[0][:-1] + peakdiff/4*3\n",
    "    q1lastv = (maxindices[0][-1] + peakdiff[-1]*0.25).astype(int) if ((m//(peakdiff[-1]*0.25)!=0)) else 0\n",
    "    q2lastv = (maxindices[0][-1] + peakdiff[-1]*0.5).astype(int)  if ((m//(peakdiff[-1]*0.5)!=0)) else 0\n",
    "    q3lastv = (maxindices[0][-1] + peakdiff[-1]*0.75).astype(int)  if ((m//(peakdiff[-1]*0.75)!=0)) else 0\n",
    "    #print(\"this\",q1lastv)\n",
    "    #print(q2lastv)\n",
    "    #print(q3lastv)\n",
    "    allqpositions = np.concatenate((q0value.astype(int),q1value.astype(int),q2value.astype(int),q3value.astype(int),np.array([q1lastv]),np.array([q2lastv]),np.array([q3lastv])))\n",
    "    q0value = array[q0value.astype(int)]\n",
    "    q1value = array[q1value.astype(int)]\n",
    "    q2value = array[q2value.astype(int)]\n",
    "    q3value = array[q3value.astype(int)]\n",
    "    q1lastpos = np.array([t[q1lastv]])\n",
    "    q2lastpos = np.array([t[q2lastv]])\n",
    "    q3lastpos = np.array([t[q3lastv]])\n",
    "    #print(q1lastpos)\n",
    "    q1lastv = np.array([array[q1lastv]])\n",
    "    q2lastv = np.array([array[q2lastv]])\n",
    "    q3lastv = np.array([array[q3lastv]])\n",
    "    #print(\"allqpositions\",allqpositions)\n",
    "    \n",
    "    # Get the mean period\n",
    "    meanP = np.average(differences)\n",
    "\n",
    "    # Quarter time points\n",
    "    q0 = np.array([xlist[0]]*3 * np.array([0.25,0.5,0.75])) # quarters before first peak\n",
    "    q1 = xlist[:-1] + differences/4\n",
    "    q2 = xlist[:-1] + differences*2/4\n",
    "    q3 = xlist[:-1] + differences*3/4\n",
    "    \n",
    "    #q1last = xlist[-1] + differences[-1]/4 if ((m//(maxindices[0][-1]*0.25)!=0)) else np.empty((0))\n",
    "    #q2last = xlist[-1] + differences[-1]/4*2 if ((m//(maxindices[0][-1]*0.5)!=0)) else np.empty((0))\n",
    "    #q3last = xlist[-1] + differences[-1]/4*3 if ((m//(maxindices[0][-1]*0.75)!=0)) else np.empty((0))\n",
    "    \n",
    "    # Array values for quarters\n",
    "    quartertimes = np.concatenate((q0,q1,q2,q3,q1lastpos,q2lastpos,q3lastpos))\n",
    "    quartervalues = np.concatenate((q0value,q1value,q2value,q3value,q1lastv,q2lastv,q3lastv))\n",
    "    \n",
    "    return meanP, xlist, maxindices, quartertimes, quartervalues, allqpositions\n",
    "    "
   ]
  },
  {
   "cell_type": "code",
   "execution_count": 7,
   "metadata": {
    "collapsed": true
   },
   "outputs": [],
   "source": [
    "def findPeriod(minkin, maxkin,stepsize,state0, timeGap):\n",
    "    \n",
    "    # Start and end time in hours\n",
    "    starttime = 0.0\n",
    "    endtime = 60\n",
    "    t = np.arange(starttime, endtime, timeGap)\n",
    "    \n",
    "    results = []\n",
    "    \n",
    "    # Evaluate on all kin values with certain stepsize\n",
    "    kinvalues = np.arange(minkin,maxkin,stepsize)\n",
    "    \n",
    "    # Iterate through all the kin values\n",
    "    for x in kinvalues:\n",
    "        \n",
    "        #print(\"kin: \",x)\n",
    "        result_odeint = odeint(periodWithVarying_kin, state0, t, args=(x,))\n",
    "        \n",
    "        # Get results for M, Fc, and Fn\n",
    "        currentkinresults = []\n",
    "        for i in range(3):\n",
    "            \n",
    "            array = result_odeint[:,i]\n",
    "            meanP,xlist,maxindices,quartertimes,quartervalues,allqpositions = getMeanPeriodandPeakInfo(array,t)\n",
    "\n",
    "            #if 21.48 < meanP < 21.53:\n",
    "            # Append a tuple of (kin, mean period, whole result, time array, max F values)\n",
    "            currentkinresults.append((x, meanP, result_odeint, t,  xlist, array[maxindices], maxindices, quartertimes, quartervalues, allqpositions))\n",
    "\n",
    "        results.append(currentkinresults)\n",
    "    \n",
    "    # Results is array of array\n",
    "    # results[0] is results for first kin evaluated\n",
    "    # results[0][0] is results for M for first kin\n",
    "    # results[0][1] is results for Fc for first kin\n",
    "    # results[0][2] is results for Fn for first kin\n",
    "    #print(len(results))\n",
    "    return results"
   ]
  },
  {
   "cell_type": "code",
   "execution_count": 8,
   "metadata": {
    "collapsed": true
   },
   "outputs": [],
   "source": [
    "def viewResultForPeriodsForProteinWithVarying_kin(results):\n",
    "    \n",
    "    kin = results[1][0]\n",
    "    # Based on Fc\n",
    "    period = results[1][1]\n",
    "    result_odeint = results[1][2]\n",
    "    time = results[1][3]\n",
    "    peaksF = results[1][5]\n",
    "    peaksM = results[0][2][:,0][results[1][6]]\n",
    "\n",
    "    # Plot M(t) vs Fc(t)\n",
    "    # With quarters (evening, midnight, morning, and noon)\n",
    "    fig, axes = plt.subplots(1,1, figsize=(5, 5))\n",
    "    plt.plot(result_odeint[:,1], result_odeint[:,0], c = 'blue')\n",
    "    # Plot the quarter points\n",
    "    plt.plot(results[1][8],results[0][2][:,0][results[1][9]], '.', c = 'orange')\n",
    "    # Plot the eves based on Fc\n",
    "    plt.plot(peaksF,peaksM, '.', c = 'black')\n",
    "    plt.xlabel(\"concentration of protein in cytoplasm\")\n",
    "    plt.ylabel(\"concentration of mRNA\")\n",
    "    plt.show()\n",
    "    \n",
    "    # Plot all M, Fc, and Fn over time\n",
    "    fig, axes = plt.subplots(1,1, figsize=(10, 10))\n",
    "    labels = [\"concentration of mRNA\", \"protein level in cytoskeleton\", \"protein level in nucleus\"]\n",
    "    plt.plot (time, result_odeint[:,0], 'blue', time, result_odeint[:,1], 'green', time, result_odeint[:,2], 'red')\n",
    "    # Plot M quarter points - index is 0\n",
    "    plt.plot(results[0][4],results[0][5], '.', c= 'black')\n",
    "    plt.plot(results[0][7],results[0][8], '.', c= 'orange')\n",
    "    # Plot Fc quarter points - index is 1\n",
    "    plt.plot(results[1][4],results[1][5], '.', c= 'black')\n",
    "    plt.plot(results[1][7],results[1][8], '.', c= 'orange')\n",
    "    # Plot Fn quarter points - index is 2\n",
    "    plt.plot(results[2][4],results[2][5], '.', c= 'black')\n",
    "    plt.plot(results[2][7],results[2][8], '.', c= 'orange')\n",
    "    plt.show()"
   ]
  },
  {
   "cell_type": "code",
   "execution_count": 9,
   "metadata": {
    "collapsed": true
   },
   "outputs": [],
   "source": [
    "minkin = 0.01\n",
    "maxkin = 0.1\n",
    "stepsize = .01\n",
    "state0 = [0, 0, 0]\n",
    "timeGap = 0.001"
   ]
  },
  {
   "cell_type": "code",
   "execution_count": 10,
   "metadata": {
    "collapsed": true
   },
   "outputs": [],
   "source": [
    "# Function for finding period with specified Vs step size\n",
    "def periodVaryingVsStep(state, t, step, light, dark):\n",
    "    \n",
    "    # Unpack initial state vector\n",
    "    M = state[0] # mRNA concentration\n",
    "    Fc = state[1] # frequency protein synthesised in cytoplasm\n",
    "    Fn = state[2] # Successively built up protein concentration\n",
    "    \n",
    "    # Constants/Parmeters\n",
    "    step = step\n",
    "    Vs = 1.5\n",
    "    Vm = 1.5\n",
    "    Vd = 1.0\n",
    "    ks = 0.5\n",
    "    K = 0.2\n",
    "    Km = 0.15\n",
    "    Kd = 0.15\n",
    "    kin = 0.0244 # Use the kin that produces a period of 21.5 h\n",
    "    kout = 0.1\n",
    "    n = 4 #Hill number\n",
    "\n",
    "    # Specific Vs values depending on current time t\n",
    "    currentVs = Vs if t % (dark + light) < dark else Vs + step\n",
    "    \n",
    "    # Compute state derivatives w.r.t time\n",
    "    dM = (currentVs*(K**n))/(K**n+Fn**n)-(Vm*M/(Km+M))\n",
    "    dFc = ks*M - (Vd*(Fc/(Kd+Fc))) - (kin*Fc) + (kout*Fn)\n",
    "    dFn = kin*Fc - kout*Fn\n",
    "    \n",
    "    # Return state derivatives\n",
    "    return [dM, dFc, dFn]"
   ]
  },
  {
   "cell_type": "code",
   "execution_count": 11,
   "metadata": {
    "collapsed": true
   },
   "outputs": [],
   "source": [
    "# Function for finding the minimum Vs step increase\n",
    "# That produces a period of 24 h\n",
    "def findVsStep(state0, light, dark):\n",
    "    \n",
    "    # Time parameters\n",
    "    h = 0.01 # Stepsize for time\n",
    "    starttime = 0.0\n",
    "    endtime = 100\n",
    "    \n",
    "    # Each t point is a step through time in the plot\n",
    "    # the value of t is an index, not an absolute value in hours\n",
    "    # Here, len(t) = (end-start)/stepsize = 100/0.01 = 10,000\n",
    "    t = np.arange(starttime, endtime, h)\n",
    "    \n",
    "    # Lighting conditions/simuli\n",
    "    light = light\n",
    "    dark = dark\n",
    "    \n",
    "    # Limits of the step size\n",
    "    minstep = 0.0\n",
    "    maxstep = .5\n",
    "    step = 0.004\n",
    "    allsteps = np.arange(minstep,maxstep,step)\n",
    "    \n",
    "    # Store period in array\n",
    "    periods = []\n",
    "    \n",
    "    # Iterate through all step sizes\n",
    "    for currentstep in allsteps:\n",
    "        \n",
    "        state = odeint(periodVaryingVsStep, state0, t, args=(currentstep,light,dark))\n",
    "        Fcarray = state[:,1]\n",
    "        \n",
    "        # Calculate the mean period based on Fc data\n",
    "        meanP,xlist,maxindices,quartertimes,quartervalues,allqpositions = getMeanPeriodandPeakInfo(Fcarray,t)\n",
    "        #print(\"Vs step size and period: \", (\"%.4f\" % currentstep, \"%.4f\" % meanP))\n",
    "\n",
    "        periods.append(\"%.4f\" % meanP)\n",
    "\n",
    "    return allsteps, periods\n"
   ]
  },
  {
   "cell_type": "code",
   "execution_count": 12,
   "metadata": {},
   "outputs": [
    {
     "data": {
      "image/png": "[encoded data removed]",
      "text/plain": [
       "<matplotlib.figure.Figure at 0x1dd4e4b25f8>"
      ]
     },
     "metadata": {},
     "output_type": "display_data"
    }
   ],
   "source": [
    "# Try light of 12 h and dark of 12 h\n",
    "# Answer: minimum step size of .032\n",
    "allsteps, periods = findVsStep(state0, 12.0, 12.0)\n",
    "# Plot\n",
    "plt.figure(1)\n",
    "plt.plot(allsteps,periods)\n",
    "plt.title('Neurospora Clock: 12 h/6 12 light/dark Conditions')\n",
    "plt.xlabel(\"Minimum step size of Vs\")\n",
    "plt.ylabel(\"Mean Period\")\n",
    "plt.show()"
   ]
  },
  {
   "cell_type": "code",
   "execution_count": 13,
   "metadata": {},
   "outputs": [
    {
     "data": {
      "image/png": "[encoded data removed]",
      "text/plain": [
       "<matplotlib.figure.Figure at 0x1dd4e4b3f60>"
      ]
     },
     "metadata": {},
     "output_type": "display_data"
    }
   ],
   "source": [
    "# Try light of 18 h and dark of 6 h\n",
    "# Answer: minimum step size of 0.12\n",
    "allsteps18, periods18 = findVsStep(state0, 18.0, 6.0)\n",
    "# Plot\n",
    "plt.figure(2)\n",
    "plt.plot(allsteps18,periods18)\n",
    "plt.title('Neurospora Clock: 18 h/6 h light/dark Conditions')\n",
    "plt.xlabel(\"Minimum step size of Vs\")\n",
    "plt.ylabel(\"Mean Period\")\n",
    "plt.show()"
   ]
  },
  {
   "cell_type": "code",
   "execution_count": null,
   "metadata": {
    "collapsed": true
   },
   "outputs": [],
   "source": []
  }
 ],
 "metadata": {
  "kernelspec": {
   "display_name": "Python 3",
   "language": "python",
   "name": "python3"
  },
  "language_info": {
   "codemirror_mode": {
    "name": "ipython",
    "version": 3
   },
   "file_extension": ".py",
   "mimetype": "text/x-python",
   "name": "python",
   "nbconvert_exporter": "python",
   "pygments_lexer": "ipython3",
   "version": "3.6.2"
  }
 },
 "nbformat": 4,
 "nbformat_minor": 2
}
